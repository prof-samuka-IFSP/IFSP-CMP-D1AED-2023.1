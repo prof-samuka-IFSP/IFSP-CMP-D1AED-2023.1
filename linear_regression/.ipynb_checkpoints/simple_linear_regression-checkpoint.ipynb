{
 "cells": [
  {
   "cell_type": "markdown",
   "metadata": {
    "colab_type": "text",
    "id": "l_LulNCC8z96"
   },
   "source": [
    "**D1DAE: Análise Estatística para Ciência de Dados** <br/>\n",
    "IFSP Campinas\n",
    "\n",
    "Prof. Dr. Samuel Martins <br/><br/>\n",
    "\n",
    "<a rel=\"license\" href=\"http://creativecommons.org/licenses/by-nc-sa/4.0/\"><img alt=\"Creative Commons License\" style=\"border-width:0\" src=\"https://i.creativecommons.org/l/by-nc-sa/4.0/88x31.png\" /></a><br />This work is licensed under a <a rel=\"license\" href=\"http://creativecommons.org/licenses/by-nc-sa/4.0/\">Creative Commons Attribution-NonCommercial-ShareAlike 4.0 International License</a>."
   ]
  },
  {
   "cell_type": "markdown",
   "metadata": {},
   "source": [
    "#### Custom CSS"
   ]
  },
  {
   "cell_type": "code",
   "execution_count": 4,
   "metadata": {},
   "outputs": [
    {
     "data": {
      "text/html": [
       "<style>\n",
       ".dashed-box {\n",
       "    border: 1px dashed black !important;\n",
       "#    font-size: var(--jp-content-font-size1) !important;\n",
       "}\n",
       "\n",
       "\n",
       ".dashed-box tr {\n",
       "    background-color: white !important;\n",
       "}\n",
       "</style>\n"
      ],
      "text/plain": [
       "<IPython.core.display.HTML object>"
      ]
     },
     "metadata": {},
     "output_type": "display_data"
    }
   ],
   "source": [
    "%%html\n",
    "<style>\n",
    ".dashed-box {\n",
    "    border: 1px dashed black !important;\n",
    "#    font-size: var(--jp-content-font-size1) !important;\n",
    "}\n",
    "\n",
    "\n",
    ".dashed-box tr {\n",
    "    background-color: white !important;\n",
    "}\n",
    "</style>"
   ]
  },
  {
   "cell_type": "code",
   "execution_count": null,
   "metadata": {},
   "outputs": [],
   "source": [
    "import numpy as np\n",
    "import pandas as pd\n",
    "import matplotlib.pyplot as plt\n",
    "import seaborn as sns"
   ]
  },
  {
   "cell_type": "code",
   "execution_count": null,
   "metadata": {},
   "outputs": [],
   "source": [
    "params = {'legend.fontsize': 'x-large',\n",
    "          'figure.figsize': (15, 5),\n",
    "         'axes.labelsize': 'x-large',\n",
    "         'axes.titlesize':'x-large',\n",
    "         'xtick.labelsize':'x-large',\n",
    "         'ytick.labelsize':'x-large'}\n",
    "plt.rcParams.update(params)"
   ]
  },
  {
   "cell_type": "markdown",
   "metadata": {},
   "source": [
    "# Simple Linear Regression"
   ]
  },
  {
   "cell_type": "markdown",
   "metadata": {
    "colab_type": "text",
    "id": "xpXdowrE9DxW"
   },
   "source": [
    "## 📊 1. Exploring the Data"
   ]
  },
  {
   "cell_type": "markdown",
   "metadata": {},
   "source": [
    "\n",
    "Dummy dataset created to study simple linear regression. <br/>\n",
    "https://www.kaggle.com/karthickveerakumar/salary-data-simple-linear-regression\n",
    "    \n",
    "The file considered in this notebook corresponds to such a dataset only with the shuffled lines."
   ]
  },
  {
   "cell_type": "markdown",
   "metadata": {
    "colab_type": "text",
    "id": "6JhpWJi59J1p"
   },
   "source": [
    "### 1.1. Importing the Dataset"
   ]
  },
  {
   "cell_type": "code",
   "execution_count": null,
   "metadata": {},
   "outputs": [],
   "source": []
  },
  {
   "cell_type": "code",
   "execution_count": null,
   "metadata": {},
   "outputs": [],
   "source": []
  },
  {
   "cell_type": "code",
   "execution_count": null,
   "metadata": {},
   "outputs": [],
   "source": []
  },
  {
   "cell_type": "markdown",
   "metadata": {},
   "source": [
    "### 1.2. Basic Information about the Dataset"
   ]
  },
  {
   "cell_type": "code",
   "execution_count": null,
   "metadata": {},
   "outputs": [],
   "source": [
    "print(f'This dataset has {df.shape[0]} observations/samples/rows and {df.shape[1]} attributes/features/colunas')"
   ]
  },
  {
   "cell_type": "code",
   "execution_count": null,
   "metadata": {},
   "outputs": [],
   "source": []
  },
  {
   "cell_type": "markdown",
   "metadata": {},
   "source": [
    "### 1.3. Descriptive Statistics"
   ]
  },
  {
   "cell_type": "code",
   "execution_count": null,
   "metadata": {},
   "outputs": [],
   "source": [
    "df.describe()"
   ]
  },
  {
   "cell_type": "code",
   "execution_count": null,
   "metadata": {},
   "outputs": [],
   "source": [
    "fig = plt.figure(figsize=(20, 12))\n",
    "\n",
    "axis_1 = fig.add_subplot(2, 2, 1)\n",
    "axis_1.set_title('Histogram of Experience (Years)')\n",
    "axis_1.set_xlabel('Experience (Years)')\n",
    "axis_1.set_ylabel('Frequence')\n",
    "sns.histplot(data=df, x='Experience', ax=axis_1)\n",
    "\n",
    "axis_2 = fig.add_subplot(2, 2, 2)\n",
    "axis_2.set_title('Histogram of Annual Salary ($)')\n",
    "axis_2.set_xlabel('Experience (Years)')\n",
    "axis_2.set_ylabel('Frequence')\n",
    "sns.histplot(data=df, x='Salary', ax=axis_2, color=\"yellow\")\n",
    "\n",
    "axis_3 = fig.add_subplot(2, 2, 3)\n",
    "axis_3.set_title('Boxplot - Experience')\n",
    "axis_3.set_ylabel('Experience (Years)')\n",
    "sns.boxplot(data=df, y='Experience', orient='v', ax=axis_3)\n",
    "\n",
    "axis_4 = fig.add_subplot(2, 2, 4)\n",
    "axis_4.set_title('Boxplot - Salary ($)')\n",
    "axis_4.set_ylabel('Salary (Annual)')\n",
    "sns.boxplot(data=df, y='Salary', orient='v', color=\"yellow\", ax=axis_4)"
   ]
  },
  {
   "cell_type": "markdown",
   "metadata": {},
   "source": [
    "### 1.4 Correlation Matrix\n",
    "\n",
    "The **correlation coefficient** measures the _linear association_ between two variables. Its value ranges from **_-1_** (perfect negative association) and **_+1_** (perfect positive association).\n",
    "<img src=\"imgs/correlation_coefficient.png\" width=\"70%\" />\n",
    "\n",
    "Source: https://dataz4s.com/statistics/correlation-coefficient/"
   ]
  },
  {
   "cell_type": "code",
   "execution_count": null,
   "metadata": {},
   "outputs": [],
   "source": []
  },
  {
   "cell_type": "code",
   "execution_count": null,
   "metadata": {},
   "outputs": [],
   "source": []
  },
  {
   "cell_type": "markdown",
   "metadata": {},
   "source": [
    "## 2. Dependent Variable (y) vs Independent Variables"
   ]
  },
  {
   "cell_type": "markdown",
   "metadata": {},
   "source": [
    "### `pairplot`"
   ]
  },
  {
   "cell_type": "code",
   "execution_count": null,
   "metadata": {},
   "outputs": [],
   "source": []
  },
  {
   "cell_type": "markdown",
   "metadata": {},
   "source": [
    "### `jointplot`"
   ]
  },
  {
   "cell_type": "code",
   "execution_count": null,
   "metadata": {},
   "outputs": [],
   "source": []
  },
  {
   "cell_type": "markdown",
   "metadata": {},
   "source": [
    "### `jointplot` with the estimated regression line"
   ]
  },
  {
   "cell_type": "code",
   "execution_count": null,
   "metadata": {},
   "outputs": [],
   "source": []
  },
  {
   "cell_type": "markdown",
   "metadata": {},
   "source": [
    "### `lmplot`\n",
    "Plots the regression line between two variables together with their respective dispersions."
   ]
  },
  {
   "cell_type": "code",
   "execution_count": null,
   "metadata": {},
   "outputs": [],
   "source": []
  },
  {
   "cell_type": "markdown",
   "metadata": {},
   "source": [
    "## 🤖 3. Estimating a Linear Regressor"
   ]
  },
  {
   "cell_type": "markdown",
   "metadata": {},
   "source": [
    "### 3.1. Extracting the independent and dependent variables"
   ]
  },
  {
   "cell_type": "code",
   "execution_count": null,
   "metadata": {},
   "outputs": [],
   "source": []
  },
  {
   "cell_type": "markdown",
   "metadata": {},
   "source": [
    "#### Creating a DataFrame to store the independent/explanatory variables: Feature Matrix (X)\n",
    "NB: we could use a numpy array instead."
   ]
  },
  {
   "cell_type": "code",
   "execution_count": null,
   "metadata": {},
   "outputs": [],
   "source": []
  },
  {
   "cell_type": "markdown",
   "metadata": {},
   "source": [
    "#### Creating a Series to store the dependent variable (y)"
   ]
  },
  {
   "cell_type": "code",
   "execution_count": null,
   "metadata": {},
   "outputs": [],
   "source": []
  },
  {
   "cell_type": "markdown",
   "metadata": {
    "colab_type": "text",
    "id": "AyhQaTwP9RzG"
   },
   "source": [
    "### 3.2 Splitting the dataset into Training Set and Test Set\n",
    "https://scikit-learn.org/stable/modules/generated/sklearn.model_selection.train_test_split.html"
   ]
  },
  {
   "cell_type": "code",
   "execution_count": null,
   "metadata": {},
   "outputs": [],
   "source": []
  },
  {
   "cell_type": "markdown",
   "metadata": {},
   "source": [
    "#### Checking training and test set sizes"
   ]
  },
  {
   "cell_type": "code",
   "execution_count": null,
   "metadata": {},
   "outputs": [],
   "source": []
  },
  {
   "cell_type": "code",
   "execution_count": null,
   "metadata": {},
   "outputs": [],
   "source": []
  },
  {
   "cell_type": "code",
   "execution_count": null,
   "metadata": {},
   "outputs": [],
   "source": []
  },
  {
   "cell_type": "code",
   "execution_count": null,
   "metadata": {},
   "outputs": [],
   "source": []
  },
  {
   "cell_type": "code",
   "execution_count": null,
   "metadata": {},
   "outputs": [],
   "source": []
  },
  {
   "cell_type": "code",
   "execution_count": null,
   "metadata": {},
   "outputs": [],
   "source": []
  },
  {
   "cell_type": "code",
   "execution_count": null,
   "metadata": {},
   "outputs": [],
   "source": []
  },
  {
   "cell_type": "markdown",
   "metadata": {
    "colab_type": "text",
    "id": "ZijQwFMQ9itx"
   },
   "source": [
    "### 3.3. Training the Simple Linear Regression Model with the Training Set\n",
    "https://scikit-learn.org/stable/modules/generated/sklearn.linear_model.LinearRegression.html"
   ]
  },
  {
   "cell_type": "code",
   "execution_count": null,
   "metadata": {},
   "outputs": [],
   "source": []
  },
  {
   "cell_type": "code",
   "execution_count": null,
   "metadata": {},
   "outputs": [],
   "source": []
  },
  {
   "cell_type": "code",
   "execution_count": null,
   "metadata": {},
   "outputs": [],
   "source": []
  },
  {
   "cell_type": "code",
   "execution_count": null,
   "metadata": {},
   "outputs": [],
   "source": []
  },
  {
   "cell_type": "markdown",
   "metadata": {},
   "source": [
    "A partir do conjunto de treinamento estabelecido, nossa reta é então: <br/>\n",
    "**h(x) = 24568.367141463837 + 9694.4074634 * x**"
   ]
  },
  {
   "cell_type": "markdown",
   "metadata": {},
   "source": [
    "The predicted annual salary of an **inexperienced (zero years of experience)** employee is \\\\$24,568.36 (intercept $ \\theta_0 $).\n",
    "\n",
    "**For each additional year of experience**, the employee's annual salary increases by \\\\$9,694.4 (slope of the line - $ \\theta_1 $)."
   ]
  },
  {
   "cell_type": "markdown",
   "metadata": {},
   "source": [
    "## 3.4 Coefficient of determination (R²) of the linear model estimated with the Training Set\n",
    "\n",
    "The ***coefficient of determination (R²)*** measures the _proportion of total variability_ of the _$y$-value_ (**dependent variable**) that is accounted for by _another variable_ (**independent variable $x$**).\n",
    "\n",
    "In our case, it tells _\"how much of the variation in the **salary ($y$)** can be explained by the **employee's experience ($x$)**.\"_\n",
    "\n",
    "In simple words, the ***coefficient of determination (R²)*** tells you _how well the regression line fits the training data_. <br/>\n",
    "It is a value (generally) between 0 and 1.\n",
    "\n",
    "Eg **R² = 0.8234** means that the _linear model_ explains 82.34% of the _variance_ of the **dependent variable** from the regressors (**independent variables**) included in that _linear model_.\n",
    "\n",
    "Broadly speaking:\n",
    "\n",
    "| **Coefficient of determination (R²)** | **Interpretation**                            |\n",
    "|---------------------------------------|-----------------------------------------------|\n",
    "| 0                                     | The model **does not** predict the outcome.   |\n",
    "| Between 0 and 1                       | The model **partially** predicts the outcome. |\n",
    "| 1                                     | The model **perfectly** predicts the outcome. |\n",
    "\n",
    "$$R^2(y, \\hat{y}) = 1 - \\frac {\\sum_{i=1}^{m}(y^{(i)}-\\hat{y}^{(i)})^2}{\\sum_{i=1}^{m}(y^{(i)}-\\bar{y})^2}$$"
   ]
  },
  {
   "cell_type": "markdown",
   "metadata": {},
   "source": [
    "<br/>\n",
    "\n",
    "<table align=\"left\" class='dashed-box'>\n",
    "<tr>\n",
    "    <td>💡</td>\n",
    "    <td>In general, an <b>R² value</b> of <b><i>0.7 or higher</i></b> is often considered a <i>strong relationship</i> between <i>two variables</i>.</td>\n",
    "</tr>\n",
    "</table>\n",
    "    \n",
    "<table align=\"left\" class='dashed-box'>\n",
    "<tr>\n",
    "    <td>⚠️</td>\n",
    "    <td><b>R²</b> is typically used <i>only</i> for the <b><i>training data</i></b> since the <i>regression model</i> was trained from it.<br/> Therefore, <b>R²</b> value obtained on the <b><i>training data</i></b> <i>may not</i> be an accurate reflection of how well the model will perform on <b><i>unseen data (testing data)</i></b>.</td>\n",
    "</tr>\n",
    "</table>\n",
    "\n",
    "<table align=\"left\" class='dashed-box'>\n",
    "<tr>\n",
    "    <td>💡</td>\n",
    "    <td>To evaluate <b><i>unseen data (testing data)</i></b>, it is recommended to other metrics such as the <i>Root Mean Squared Error (RMSE)</i> or the <i>Mean Absolute Error (MAE)</i>.</td>\n",
    "</tr>\n",
    "</table>"
   ]
  },
  {
   "cell_type": "markdown",
   "metadata": {},
   "source": [
    "#### Correlation Coefficient vs Coefficient of Determination\n",
    "\n",
    "The **Correlation Coefficient** is the _squared root_ of the ***Coefficient of Determination (R²)***. <br/>\n",
    "In other words:\n",
    "- the **Correlation Coefficient** tells us about the _strength_ and _direction_ of the ***linear relationship*** between _two variables_\n",
    "- ***R²*** tells us about the _proportion of the variation_ in the ***dependent variable*** that is _explained_ by the ***independent variable(s)*** in a _regression model_."
   ]
  },
  {
   "cell_type": "code",
   "execution_count": null,
   "metadata": {},
   "outputs": [],
   "source": []
  },
  {
   "cell_type": "code",
   "execution_count": null,
   "metadata": {},
   "outputs": [],
   "source": [
    "print(f'R² = {}')"
   ]
  },
  {
   "cell_type": "markdown",
   "metadata": {
    "colab_type": "text",
    "id": "wa2T1Lq89o5H"
   },
   "source": [
    "## 4. Predicting Salaries for Test Samples"
   ]
  },
  {
   "cell_type": "markdown",
   "metadata": {},
   "source": [
    "### 4.1. Prediction"
   ]
  },
  {
   "cell_type": "code",
   "execution_count": null,
   "metadata": {},
   "outputs": [],
   "source": []
  },
  {
   "cell_type": "code",
   "execution_count": null,
   "metadata": {},
   "outputs": [],
   "source": []
  },
  {
   "cell_type": "code",
   "execution_count": null,
   "metadata": {},
   "outputs": [],
   "source": []
  },
  {
   "cell_type": "code",
   "execution_count": null,
   "metadata": {},
   "outputs": [],
   "source": []
  },
  {
   "cell_type": "markdown",
   "metadata": {},
   "source": [
    "The **residuals** inform how far the predictions are from the linear model."
   ]
  },
  {
   "cell_type": "code",
   "execution_count": null,
   "metadata": {
    "tags": []
   },
   "outputs": [],
   "source": [
    "results.describe()"
   ]
  },
  {
   "cell_type": "markdown",
   "metadata": {
    "colab_type": "text",
    "id": "-zSoMZ-P9v8t"
   },
   "source": [
    "### 4.2. Visualizing the samples with the Linear Models"
   ]
  },
  {
   "cell_type": "code",
   "execution_count": null,
   "metadata": {},
   "outputs": [],
   "source": [
    "regression_line_x = X['Experience']\n",
    "regression_line_y = regressor.predict(X)\n",
    "regression_line_y"
   ]
  },
  {
   "cell_type": "code",
   "execution_count": null,
   "metadata": {},
   "outputs": [],
   "source": [
    "fig, axs = plt.subplots(1, 2, figsize=(20, 6), sharex=True, sharey=True)\n",
    "\n",
    "regression_line_x = X['Experience']\n",
    "regression_line_y = regressor.predict(X)\n",
    "\n",
    "sns.scatterplot(x=X_train['Experience'], y=y_train, ax=axs[0])\n",
    "sns.lineplot(x=regression_line_x, y=regression_line_y, color=\"red\", ax=axs[0])\n",
    "axs[0].set_title('Annual Salary vs Years of Experience (Training Set)')\n",
    "axs[0].set_xlabel('Experience (Years)')\n",
    "axs[0].set_ylabel('Salary ($)')\n",
    "\n",
    "sns.scatterplot(x=X_test['Experience'], y=y_test, color=\"green\", marker='*', s=200, ax=axs[1])\n",
    "sns.lineplot(x=regression_line_x, y=regression_line_y, color=\"red\", ax=axs[1])\n",
    "axs[1].set_title('Annual Salary vs Years of Experience (Testing Set)')\n",
    "axs[1].set_xlabel('Experience (Years)')\n",
    "axs[1].set_ylabel('Salary ($)')\n",
    "\n",
    "display()"
   ]
  },
  {
   "cell_type": "code",
   "execution_count": null,
   "metadata": {},
   "outputs": [],
   "source": [
    "X_labeled = X.copy()\n",
    "X_labeled['Label'] = 'Train'\n",
    "X_labeled\n",
    "X_labeled.loc[X_test.index, 'Label'] = 'Test'\n",
    "X_labeled"
   ]
  },
  {
   "cell_type": "code",
   "execution_count": null,
   "metadata": {},
   "outputs": [],
   "source": [
    "sns.scatterplot(data=X_labeled, x='Experience', y=y, hue='Label', style='Label', s=100)\n",
    "sns.lineplot(x=regression_line_x, y=regression_line_y, color=\"red\")\n",
    "plt.title('Annual Salary vs Years of Experience (Training and Testing Set)')\n",
    "plt.xlabel('Experience (Years)')\n",
    "plt.ylabel('Salary ($)')"
   ]
  },
  {
   "cell_type": "markdown",
   "metadata": {},
   "source": [
    "## 5. Computing Evaluation Metrics"
   ]
  },
  {
   "cell_type": "markdown",
   "metadata": {},
   "source": [
    "How much do the predictions obtained differ from the actual data?"
   ]
  },
  {
   "cell_type": "markdown",
   "metadata": {},
   "source": [
    "### Mean Absolute Error (MAE)\n",
    "https://scikit-learn.org/stable/modules/generated/sklearn.metrics.mean_absolute_error.html\n",
    "\n",
    "$$ MAE = \\frac{1}{m}\\sum_{i=1}^{m}|y^{(i)} - \\hat{y}^{(i)}| $$"
   ]
  },
  {
   "cell_type": "code",
   "execution_count": 1,
   "metadata": {},
   "outputs": [],
   "source": []
  },
  {
   "cell_type": "code",
   "execution_count": null,
   "metadata": {},
   "outputs": [],
   "source": []
  },
  {
   "cell_type": "markdown",
   "metadata": {},
   "source": [
    "### Mean Squared Error (MSE)\n",
    "https://scikit-learn.org/stable/modules/generated/sklearn.metrics.mean_squared_error.html\n",
    "\n",
    "$$ MSE = \\frac{1}{m}\\sum_{i=1}^{m}(y^{(i)} - \\hat{y}^{(i)})^2 $$\n",
    "\n",
    "Since the **errors** are squared before computing the _mean_, MSE weights **large errors** more than the MAE."
   ]
  },
  {
   "cell_type": "code",
   "execution_count": null,
   "metadata": {},
   "outputs": [],
   "source": []
  },
  {
   "cell_type": "code",
   "execution_count": null,
   "metadata": {},
   "outputs": [],
   "source": []
  },
  {
   "cell_type": "markdown",
   "metadata": {},
   "source": [
    "## Root Mean Squared Error (RMSE)\n",
    "Square root of the MSE. <br/>\n",
    "This is the metric commonly used to compare regression models.\n",
    "\n",
    "https://scikit-learn.org/stable/modules/generated/sklearn.metrics.mean_squared_error.html"
   ]
  },
  {
   "cell_type": "code",
   "execution_count": null,
   "metadata": {},
   "outputs": [],
   "source": []
  },
  {
   "cell_type": "code",
   "execution_count": null,
   "metadata": {},
   "outputs": [],
   "source": []
  },
  {
   "cell_type": "markdown",
   "metadata": {},
   "source": [
    "# Exercise"
   ]
  },
  {
   "cell_type": "markdown",
   "metadata": {},
   "source": [
    "Consider the dataset below that contains **heights** (in inches/inches) and **weights** (in pounds/lbs) of fake people. <br/>\n",
    "https://www.kaggle.com/mustafaali96/weight-height\n",
    "\n",
    "Perform the following tasks:\n",
    "- Split the dataset into 80% for training and 20% for testing\n",
    "- Compute the correlation between the training set variables\n",
    "- Train a regression model considerint **height** as the independent variable and **weight** as the dependent one\n",
    "   + Compute the model determination coefficient\n",
    "   + Plot a scatterplot of the two variables containing the regression model (line)\n",
    "- Predict the test set\n",
    "   + Plot a scatterplot of the two variables containing the regression model (line)\n",
    "   + Compute error metrics for regression"
   ]
  },
  {
   "cell_type": "code",
   "execution_count": null,
   "metadata": {},
   "outputs": [],
   "source": []
  }
 ],
 "metadata": {
  "colab": {
   "authorship_tag": "ABX9TyP1VVwrQU8S68bmX5lftYWC",
   "name": "Simple Linear Regression",
   "provenance": [],
   "toc_visible": true
  },
  "kernelspec": {
   "display_name": "Python 3",
   "language": "python",
   "name": "python3"
  },
  "language_info": {
   "codemirror_mode": {
    "name": "ipython",
    "version": 3
   },
   "file_extension": ".py",
   "mimetype": "text/x-python",
   "name": "python",
   "nbconvert_exporter": "python",
   "pygments_lexer": "ipython3",
   "version": "3.8.5"
  }
 },
 "nbformat": 4,
 "nbformat_minor": 4
}

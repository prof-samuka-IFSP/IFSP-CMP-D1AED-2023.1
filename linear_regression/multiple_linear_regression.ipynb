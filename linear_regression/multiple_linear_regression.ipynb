{
 "cells": [
  {
   "cell_type": "markdown",
   "metadata": {},
   "source": [
    "**D1DAE: Análise Estatística para Ciência de Dados** <br/>\n",
    "IFSP Campinas\n",
    "\n",
    "Prof: Samuel Martins <br/><br/>\n",
    "\n",
    "<a rel=\"license\" href=\"http://creativecommons.org/licenses/by-nc-sa/4.0/\"><img alt=\"Creative Commons License\" style=\"border-width:0\" src=\"https://i.creativecommons.org/l/by-nc-sa/4.0/88x31.png\" /></a><br />This work is licensed under a <a rel=\"license\" href=\"http://creativecommons.org/licenses/by-nc-sa/4.0/\">Creative Commons Attribution-NonCommercial-ShareAlike 4.0 International License</a>."
   ]
  },
  {
   "cell_type": "code",
   "execution_count": null,
   "metadata": {
    "colab": {},
    "colab_type": "code",
    "id": "nhKd4hWx9GFt"
   },
   "outputs": [],
   "source": [
    "import numpy as np\n",
    "import pandas as pd\n",
    "import matplotlib.pyplot as plt\n",
    "import seaborn as sns"
   ]
  },
  {
   "cell_type": "code",
   "execution_count": null,
   "metadata": {},
   "outputs": [],
   "source": [
    "sns.set_theme(style=\"whitegrid\")\n",
    "\n",
    "params = {'legend.fontsize': 'x-large',\n",
    "          'figure.figsize': (15, 5),\n",
    "         'axes.labelsize': 'x-large',\n",
    "         'axes.titlesize':'x-large',\n",
    "         'xtick.labelsize':'x-large',\n",
    "         'ytick.labelsize':'x-large'}\n",
    "plt.rcParams.update(params)"
   ]
  },
  {
   "cell_type": "markdown",
   "metadata": {
    "colab_type": "text",
    "id": "l_LulNCC8z96"
   },
   "source": [
    "# <font color='#0C509E' style='font-size: 40px;'>Linear Regression - Multiple variables</font>"
   ]
  },
  {
   "cell_type": "markdown",
   "metadata": {},
   "source": [
    "## 1. Exploring the Data"
   ]
  },
  {
   "cell_type": "markdown",
   "metadata": {},
   "source": [
    "This is a dummy dataset that pesents data from fake startus from New York, California, and Florida.\n",
    "\n",
    "**Dataset:** https://www.kaggle.com/farhanmd29/50-startups"
   ]
  },
  {
   "cell_type": "markdown",
   "metadata": {
    "colab_type": "text",
    "id": "6JhpWJi59J1p"
   },
   "source": [
    "### 1.1. Importing the Dataset"
   ]
  },
  {
   "cell_type": "code",
   "execution_count": null,
   "metadata": {},
   "outputs": [],
   "source": []
  },
  {
   "cell_type": "code",
   "execution_count": null,
   "metadata": {},
   "outputs": [],
   "source": [
    "df.head()"
   ]
  },
  {
   "cell_type": "code",
   "execution_count": null,
   "metadata": {},
   "outputs": [],
   "source": [
    "# renaming some columns\n",
    "df.rename(columns = {'R&D Spend': 'R&D', 'Marketing Spend': 'Marketing'}, inplace = True)"
   ]
  },
  {
   "cell_type": "code",
   "execution_count": null,
   "metadata": {},
   "outputs": [],
   "source": [
    "df.head()"
   ]
  },
  {
   "cell_type": "markdown",
   "metadata": {},
   "source": [
    "### 1.2. Basic Information about the Dataset"
   ]
  },
  {
   "cell_type": "code",
   "execution_count": null,
   "metadata": {},
   "outputs": [],
   "source": [
    "print(f'This dataset has {df.shape[0]} observations/samples/rows and {df.shape[1]} attributes/features/colunas')"
   ]
  },
  {
   "cell_type": "code",
   "execution_count": null,
   "metadata": {},
   "outputs": [],
   "source": [
    "df.info()"
   ]
  },
  {
   "cell_type": "markdown",
   "metadata": {},
   "source": [
    "<br/>**\"Profit\"** is a _dependent variable_ and the others are _independent variables_."
   ]
  },
  {
   "cell_type": "markdown",
   "metadata": {},
   "source": [
    "## 2. Analyzing the states (Categorical Variable)"
   ]
  },
  {
   "cell_type": "markdown",
   "metadata": {},
   "source": [
    "### 2.1. Proportion of samples per state"
   ]
  },
  {
   "cell_type": "code",
   "execution_count": null,
   "metadata": {},
   "outputs": [],
   "source": []
  },
  {
   "cell_type": "code",
   "execution_count": null,
   "metadata": {},
   "outputs": [],
   "source": [
    "ax = sns.countplot(data=df, x='State')\n",
    "\n",
    "n_registros = df.shape[0]\n",
    "\n",
    "for bar in ax.patches:\n",
    "    freq = bar.get_height()\n",
    "    ax.annotate(f'{freq}\\n({(freq * 100) / n_registros:.2f}%)',  # string a ser impressa\n",
    "                (bar.get_x() + bar.get_width() / 2, bar.get_height()),  # posição inicial a ser impressa (x, y)\n",
    "                ha='center', va='center',\n",
    "                size=14, xytext=(0, 20),\n",
    "                textcoords='offset points')"
   ]
  },
  {
   "cell_type": "markdown",
   "metadata": {},
   "source": [
    "### 2.2. Mean profit (and standard deviation) per State"
   ]
  },
  {
   "cell_type": "code",
   "execution_count": null,
   "metadata": {},
   "outputs": [],
   "source": []
  },
  {
   "cell_type": "code",
   "execution_count": null,
   "metadata": {},
   "outputs": [],
   "source": []
  },
  {
   "cell_type": "markdown",
   "metadata": {},
   "source": [
    "### 2.3. Distribution of Profits per State"
   ]
  },
  {
   "cell_type": "code",
   "execution_count": null,
   "metadata": {},
   "outputs": [],
   "source": []
  },
  {
   "cell_type": "markdown",
   "metadata": {},
   "source": [
    "### 2.4. Correlation matrix"
   ]
  },
  {
   "cell_type": "code",
   "execution_count": null,
   "metadata": {},
   "outputs": [],
   "source": [
    "df.corr()"
   ]
  },
  {
   "cell_type": "markdown",
   "metadata": {},
   "source": [
    "<br/>Note that the correlation between **Profit** and investments in **R&D** is quite high. On a smaller scale, the correlation between **Profit** and investments in **Marketing** is also expressive."
   ]
  },
  {
   "cell_type": "markdown",
   "metadata": {},
   "source": [
    "#### Correlation per State"
   ]
  },
  {
   "cell_type": "code",
   "execution_count": null,
   "metadata": {},
   "outputs": [],
   "source": []
  },
  {
   "cell_type": "markdown",
   "metadata": {},
   "source": [
    "<br/>\n",
    "\n",
    "The correlation between **Profit** and investments in **R&D** is very high for _all_ states.<br/>\n",
    "The correlation between **Profit** and investments in **Administration** is not expressive, being close to zero, which suggests that such variables are not correlated.<br/>\n",
    "The correlation between **Profit** and investments in **Marketing** is considerably high in _all_ states.<br/>"
   ]
  },
  {
   "cell_type": "markdown",
   "metadata": {},
   "source": [
    "<br/>\n",
    "\n",
    "The correlation between **Profit** and investments in **R&D** is also very high in _Florida_.<br/>\n",
    "The correlation between **Profit** and investments in **Administration** is not expressive, being close to zero, which suggests that such variables are not correlated.<br/>\n",
    "The correlation between **Profit** and investments in **Marketing** is lower than in _California_, but still indicates a certain correlation between the two variables.<br/>"
   ]
  },
  {
   "cell_type": "markdown",
   "metadata": {},
   "source": [
    "<br/>\n",
    "\n",
    "Unlike _California_ and _Florida_, investments in **Admnistration** seem to have a certain influence on the **Profit** of NY companies, since the correlation of such variables is \"relatively\" expressive.<br/>"
   ]
  },
  {
   "cell_type": "markdown",
   "metadata": {},
   "source": [
    "### 2.5 Dependent Variable (y) vs Independent Variables"
   ]
  },
  {
   "cell_type": "markdown",
   "metadata": {},
   "source": [
    "## `pairplot`"
   ]
  },
  {
   "cell_type": "code",
   "execution_count": null,
   "metadata": {},
   "outputs": [],
   "source": []
  },
  {
   "cell_type": "markdown",
   "metadata": {},
   "source": [
    "**NB:** Feel free to test `jointplot` and `lmplot`."
   ]
  },
  {
   "cell_type": "markdown",
   "metadata": {},
   "source": [
    "### 2.6. Visualizing the Dependent Variable and 2 Independent Variables"
   ]
  },
  {
   "cell_type": "code",
   "execution_count": null,
   "metadata": {},
   "outputs": [],
   "source": [
    "df.corr()"
   ]
  },
  {
   "cell_type": "code",
   "execution_count": null,
   "metadata": {},
   "outputs": [],
   "source": [
    "# pip install plotly\n",
    "# jupyter labextension install jupyterlab-plotly"
   ]
  },
  {
   "cell_type": "code",
   "execution_count": null,
   "metadata": {},
   "outputs": [],
   "source": [
    "# pip install plotly\n",
    "# jupyter labextension install jupyterlab-plotly\n",
    "\n",
    "import plotly.express as px\n",
    "\n",
    "fig = px.scatter_3d(df, x='R&D', y='Marketing', z='Profit', width=1000, height=1000)\n",
    "fig.update_traces(marker=dict(size=5, line=dict(width=1)), selector=dict(mode='markers'))\n",
    "fig.show()"
   ]
  },
  {
   "cell_type": "markdown",
   "metadata": {},
   "source": [
    "## 3. Linear Regression"
   ]
  },
  {
   "cell_type": "markdown",
   "metadata": {},
   "source": [
    "### 3.1. Transforming Categorical Variables into _Dummy_ Variables\n",
    "https://pandas.pydata.org/docs/reference/api/pandas.get_dummies.html"
   ]
  },
  {
   "cell_type": "code",
   "execution_count": null,
   "metadata": {},
   "outputs": [],
   "source": []
  },
  {
   "cell_type": "code",
   "execution_count": null,
   "metadata": {},
   "outputs": [],
   "source": []
  },
  {
   "cell_type": "code",
   "execution_count": null,
   "metadata": {},
   "outputs": [],
   "source": []
  },
  {
   "cell_type": "markdown",
   "metadata": {},
   "source": [
    "### Alternative: OneHotEncoder\n",
    "https://scikit-learn.org/stable/modules/generated/sklearn.preprocessing.OneHotEncoder.html"
   ]
  },
  {
   "cell_type": "markdown",
   "metadata": {},
   "source": [
    "##### Differences\n",
    "\n",
    "1. By using **_OneHotEnconder_**, we can create a _function/model_ to create the **dummy variables** from our **training set**. We can then apply such a model to new data without any problem.\n",
    "\n",
    "2. By using **_OneHotEncoder_**, if the **test set** has values **NOT** seen in the **training set** for the _categorical variable_ to be turned into **dummy**, we can inform the action we wish to take. Just pass the parameter: `handle_unknown{'error', 'ignore'}`. This is extremely interesting when we already have models trained in production, so unsupported values must be identified before using the model.\n",
    "\n",
    "3. For ***get_dummies()***, we need to have _all_ the **training and testing** data in the _same table_, in order to maintain _consistency_ of the dummy variables\n",
    "- E.g: the _California_State_ column should come **before**_ Florida_State_, and_ New York_State_.\n",
    "\n",
    "4. However, (3) limits its use in _PRODUCTION_, with models _already trained_ for a given set of categorical values, requiring **retraining**  model for every _new test set_.\n",
    "\n",
    "5. Also, when using the **test data** to find out the categories (or anything else during the _training stage_), we get the **data snooping bias**.\n",
    "\n",
    "In general, prefer **_OneHotEnconder_** to ***get_dummies()***. For simplicity, we will use ***get_dummies()**.\n",
    "\n",
    "Source: https://stackoverflow.com/questions/36631163/what-are-the-pros-and-cons-between-get-dummies-pandas-and-onehotencoder-sciki"
   ]
  },
  {
   "cell_type": "markdown",
   "metadata": {},
   "source": [
    "### 3.2. Avoiding the Dummy Variable Trap"
   ]
  },
  {
   "cell_type": "code",
   "execution_count": null,
   "metadata": {},
   "outputs": [],
   "source": []
  },
  {
   "cell_type": "code",
   "execution_count": null,
   "metadata": {},
   "outputs": [],
   "source": []
  },
  {
   "cell_type": "code",
   "execution_count": null,
   "metadata": {},
   "outputs": [],
   "source": [
    "### ALTERNATIVELY\n"
   ]
  },
  {
   "cell_type": "markdown",
   "metadata": {},
   "source": [
    "### 3.3. Extracting the independent and dependent variables"
   ]
  },
  {
   "cell_type": "code",
   "execution_count": null,
   "metadata": {},
   "outputs": [],
   "source": []
  },
  {
   "cell_type": "code",
   "execution_count": null,
   "metadata": {},
   "outputs": [],
   "source": []
  },
  {
   "cell_type": "markdown",
   "metadata": {},
   "source": [
    "#### Creating a DataFrame to store the independent/explanatory variables (X)"
   ]
  },
  {
   "cell_type": "code",
   "execution_count": null,
   "metadata": {},
   "outputs": [],
   "source": []
  },
  {
   "cell_type": "code",
   "execution_count": null,
   "metadata": {},
   "outputs": [],
   "source": []
  },
  {
   "cell_type": "markdown",
   "metadata": {},
   "source": [
    "#### Creating a Series to store the dependent variable (y)"
   ]
  },
  {
   "cell_type": "code",
   "execution_count": null,
   "metadata": {},
   "outputs": [],
   "source": []
  },
  {
   "cell_type": "markdown",
   "metadata": {
    "colab_type": "text",
    "id": "AyhQaTwP9RzG"
   },
   "source": [
    "### 3.4. Splitting the dataset into Training Set and Test Set¶"
   ]
  },
  {
   "cell_type": "code",
   "execution_count": null,
   "metadata": {},
   "outputs": [],
   "source": []
  },
  {
   "cell_type": "code",
   "execution_count": null,
   "metadata": {},
   "outputs": [],
   "source": []
  },
  {
   "cell_type": "markdown",
   "metadata": {},
   "source": [
    "### 3.5. Checking training and test set sizes"
   ]
  },
  {
   "cell_type": "code",
   "execution_count": null,
   "metadata": {},
   "outputs": [],
   "source": [
    "print(f'X_train.shape = {X_train.shape}, y_train.shape = {y_train.shape}')"
   ]
  },
  {
   "cell_type": "code",
   "execution_count": null,
   "metadata": {},
   "outputs": [],
   "source": [
    "print(f'X_test.shape = {X_test.shape}, y_test.shape = {y_test.shape}')"
   ]
  },
  {
   "cell_type": "markdown",
   "metadata": {
    "colab_type": "text",
    "id": "ZijQwFMQ9itx"
   },
   "source": [
    "### 3.6. Training the Linear Regression Model with the Training Set"
   ]
  },
  {
   "cell_type": "code",
   "execution_count": null,
   "metadata": {},
   "outputs": [],
   "source": []
  },
  {
   "cell_type": "code",
   "execution_count": null,
   "metadata": {},
   "outputs": [],
   "source": []
  },
  {
   "cell_type": "code",
   "execution_count": null,
   "metadata": {},
   "outputs": [],
   "source": []
  },
  {
   "cell_type": "markdown",
   "metadata": {},
   "source": [
    "### 3.7. Coefficient of determination (R²) of the linear model estimated with the Training Se"
   ]
  },
  {
   "cell_type": "code",
   "execution_count": null,
   "metadata": {},
   "outputs": [],
   "source": [
    "print(f'R² = {regressor.score(X_train, y_train)}')"
   ]
  },
  {
   "cell_type": "markdown",
   "metadata": {},
   "source": [
    "### 3.8 Visual Analysis"
   ]
  },
  {
   "cell_type": "markdown",
   "metadata": {},
   "source": [
    "#### **Prediction vs Real/True**"
   ]
  },
  {
   "cell_type": "code",
   "execution_count": null,
   "metadata": {},
   "outputs": [],
   "source": []
  },
  {
   "cell_type": "code",
   "execution_count": null,
   "metadata": {},
   "outputs": [],
   "source": [
    "sns.lineplot(x=y_train_pred, y=y_train)\n",
    "plt.xlabel('Prediction')\n",
    "plt.ylabel('True')\n",
    "plt.title('Profit - Prediction vs Real')"
   ]
  },
  {
   "cell_type": "markdown",
   "metadata": {},
   "source": [
    "**NB**: A **perfect prediction*** for the entire dataset (no errors) would result in a **straight line** with a _45 degree angle_."
   ]
  },
  {
   "cell_type": "markdown",
   "metadata": {},
   "source": [
    "#### **Residual Analysis**\n",
    "Plot of Prediction vs Residual. This analysis is interesting because we can detect if we meet the assumption of **homoscedasticity.**"
   ]
  },
  {
   "cell_type": "markdown",
   "metadata": {},
   "source": [
    "<img src='imgs/residual-analysis.png' width=600 />"
   ]
  },
  {
   "cell_type": "code",
   "execution_count": null,
   "metadata": {},
   "outputs": [],
   "source": []
  },
  {
   "cell_type": "code",
   "execution_count": null,
   "metadata": {},
   "outputs": [],
   "source": [
    "sns.scatterplot(x=y_train_pred, y=residual_train)\n",
    "plt.xlabel('Prediction')\n",
    "plt.ylabel('Residual')\n",
    "plt.title('Profit - Prediction vs Residual')"
   ]
  },
  {
   "cell_type": "markdown",
   "metadata": {},
   "source": [
    "The model seems to meet the **homoscedasticity**."
   ]
  },
  {
   "cell_type": "markdown",
   "metadata": {
    "colab_type": "text",
    "id": "wa2T1Lq89o5H"
   },
   "source": [
    "## 4. Predicting Profits for Test Samples/Examples"
   ]
  },
  {
   "cell_type": "code",
   "execution_count": null,
   "metadata": {},
   "outputs": [],
   "source": []
  },
  {
   "cell_type": "code",
   "execution_count": null,
   "metadata": {},
   "outputs": [],
   "source": []
  },
  {
   "cell_type": "code",
   "execution_count": null,
   "metadata": {},
   "outputs": [],
   "source": []
  },
  {
   "cell_type": "markdown",
   "metadata": {},
   "source": [
    "## 5. Computing Evaluation Metrics\n",
    "How much do the predictions obtained differ from the actual data?"
   ]
  },
  {
   "cell_type": "markdown",
   "metadata": {},
   "source": [
    "### Mean Absolute Error (MAE)"
   ]
  },
  {
   "cell_type": "code",
   "execution_count": null,
   "metadata": {},
   "outputs": [],
   "source": []
  },
  {
   "cell_type": "code",
   "execution_count": null,
   "metadata": {},
   "outputs": [],
   "source": []
  },
  {
   "cell_type": "markdown",
   "metadata": {},
   "source": [
    "### Mean Squared Error (MSE)"
   ]
  },
  {
   "cell_type": "code",
   "execution_count": null,
   "metadata": {},
   "outputs": [],
   "source": []
  },
  {
   "cell_type": "code",
   "execution_count": null,
   "metadata": {},
   "outputs": [],
   "source": []
  },
  {
   "cell_type": "markdown",
   "metadata": {},
   "source": [
    "### Root Mean Squared Error (RMSE)"
   ]
  },
  {
   "cell_type": "code",
   "execution_count": null,
   "metadata": {},
   "outputs": [],
   "source": []
  },
  {
   "cell_type": "code",
   "execution_count": null,
   "metadata": {},
   "outputs": [],
   "source": []
  },
  {
   "cell_type": "markdown",
   "metadata": {},
   "source": [
    "## 6. Interpretation of the Estimated Parameters"
   ]
  },
  {
   "cell_type": "markdown",
   "metadata": {},
   "source": [
    "<img src=\"imgs/coefficients.png\" width=700/>"
   ]
  },
  {
   "cell_type": "markdown",
   "metadata": {},
   "source": [
    "### 6.1. Intercept\n",
    "The model's **intercept** represents the _effect_ on $y$ (Profit) if _all independent variables_ are **zero**.\n",
    "\n",
    "As $x_4=x_5=0$, this scenario consists of the State of _New York_. Therefore, the _regression coefficient_ for _New York_ will be included in the **intercept** (we'll see more soon)."
   ]
  },
  {
   "cell_type": "code",
   "execution_count": null,
   "metadata": {},
   "outputs": [],
   "source": []
  },
  {
   "cell_type": "markdown",
   "metadata": {},
   "source": [
    "### 6.2. Regression coefficients\n",
    "The **(hyperplane) regression coefficients** $\\theta_1$, $\\theta_2$, $\\theta_3$, $\\theta_4$, and $\\theta_5$ are known as **partial regression coefficients** or **partial angular coefficients**. In other words:\n",
    "- $\\theta_1$ measures the change in the value of $y$ (Profit), per unit of change in $x_1$ (R&D), keeping the values of $x_2$ (Administration), $x_3$ (Marketing), $x_4$ (California) and $x_5$ (Florida) constants.\n",
    "\n",
    "It gives us the _\"direct\" effect_ of a unit of change in $x_1$ on the average value of $y$, excluding the effects that the other independent variables may have on $y$.\n",
    "\n",
    "We can use the same idea to interpret the other coefficients."
   ]
  },
  {
   "cell_type": "code",
   "execution_count": null,
   "metadata": {},
   "outputs": [],
   "source": []
  },
  {
   "cell_type": "code",
   "execution_count": null,
   "metadata": {},
   "outputs": [],
   "source": []
  },
  {
   "cell_type": "code",
   "execution_count": null,
   "metadata": {},
   "outputs": [],
   "source": []
  },
  {
   "cell_type": "code",
   "execution_count": null,
   "metadata": {},
   "outputs": [],
   "source": [
    "coefficients"
   ]
  },
  {
   "cell_type": "markdown",
   "metadata": {},
   "source": [
    "### 6.3. Interpretation of Estimated Parameters"
   ]
  },
  {
   "cell_type": "markdown",
   "metadata": {},
   "source": [
    "#### **Intercept → Excluding the effect of _independent variables_ ($x_1=x_2=x_3=x_4=x_5=0$)**\n",
    "\n",
    "The effect on _profits_ is  **\\$54,035.02**.\n",
    "\n",
    "Recall that the _State_ is _New Work_ when $x_4=x_5=0$. Thus, the **regression coefficient** for _New York_ is included in this **intercept**.\n",
    "\n",
    "If we had _more_ categorical variables that were transformed into _dummy_ variables (e.g., sector), **all** _dummy_ variables excluded from the table have their regression coefficients included in the **intercept**."
   ]
  },
  {
   "cell_type": "markdown",
   "metadata": {},
   "source": [
    "##### **R&D ($x_1$)**\n",
    "Freezing the values of the other _independent variables_, the addition of **$1.0 of investment in R&D** increases the profit by **\\$ 0.805630**."
   ]
  },
  {
   "cell_type": "markdown",
   "metadata": {},
   "source": [
    "##### **Administration ($x_2$)**\n",
    "Freezing the values of the other _independent variables_, the addition of **$1.0 of investment in Administration** decreases the profit by **-\\$ 0.068788**."
   ]
  },
  {
   "cell_type": "markdown",
   "metadata": {},
   "source": [
    "##### **Marketing ($x_3$)**\n",
    "Freezing the values of the other _independent variables_, the addition of **$1.0 of investment in Marketing* increases the profit by **\\$ 0.029855**."
   ]
  },
  {
   "cell_type": "markdown",
   "metadata": {},
   "source": [
    "##### **Startups in California ($x_4$)**\n",
    "Freezing the values of the other _independent variables_, being located in _California_ decreases the profit by **-\\$ 6.987760**."
   ]
  },
  {
   "cell_type": "markdown",
   "metadata": {},
   "source": [
    "##### **Startups in Florida ($x_5$)**\n",
    "Freezing the values of the other _independent variables_, being located in _Florida_ increases the profit by **\\$ 931.80**."
   ]
  },
  {
   "cell_type": "markdown",
   "metadata": {},
   "source": [
    "##### **Startups in New York ($x_4=x_5=0$)**\n",
    "The effect in the profit caused by being located in _New York_ is included in the **intercept**."
   ]
  },
  {
   "cell_type": "markdown",
   "metadata": {},
   "source": [
    "## 8. Does `sklearn`'s `LinearRegression` already handle the Dummy Variable Trap?"
   ]
  },
  {
   "cell_type": "markdown",
   "metadata": {},
   "source": [
    "There is no a clear mentioin about this in the [official docummentation](https://scikit-learn.org/stable/modules/generated/sklearn.linear_model.LinearRegression.html). <br/>\n",
    "However, experiments lead us to beleve that `LinearRegression` solves this problem internally.\n",
    "\n",
    "Do the following experiment:\n",
    "- Repeat the same previous steps but considering all dummy variables (the column _State\\_New York must be considered).\n",
    "- Train the model, make the predictions, and compare the results of this linear regression with the previous one."
   ]
  },
  {
   "cell_type": "markdown",
   "metadata": {},
   "source": [
    "## 9. Exercise"
   ]
  },
  {
   "cell_type": "markdown",
   "metadata": {},
   "source": [
    "Choose another set of _independent varables_ (e.g., ignore the _Management_ column), repeat the experiments, and compare the results with the model that uses _all variables_."
   ]
  }
 ],
 "metadata": {
  "colab": {
   "authorship_tag": "ABX9TyP1VVwrQU8S68bmX5lftYWC",
   "name": "Simple Linear Regression",
   "provenance": [],
   "toc_visible": true
  },
  "kernelspec": {
   "display_name": "Python 3 (ipykernel)",
   "language": "python",
   "name": "python3"
  },
  "language_info": {
   "codemirror_mode": {
    "name": "ipython",
    "version": 3
   },
   "file_extension": ".py",
   "mimetype": "text/x-python",
   "name": "python",
   "nbconvert_exporter": "python",
   "pygments_lexer": "ipython3",
   "version": "3.9.16"
  }
 },
 "nbformat": 4,
 "nbformat_minor": 4
}

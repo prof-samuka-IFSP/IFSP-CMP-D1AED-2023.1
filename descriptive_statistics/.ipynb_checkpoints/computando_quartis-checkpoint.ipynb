{
 "cells": [
  {
   "cell_type": "markdown",
   "id": "99892e09-d290-430e-8293-04155244f590",
   "metadata": {},
   "source": [
    "**D1DAE: Análise Estatística para Ciência de Dados** <br/>\n",
    "IFSP Campinas\n",
    "\n",
    "Prof. Dr. Samuel Martins (Samuka) <br/><br/>\n",
    "\n",
    "<a rel=\"license\" href=\"http://creativecommons.org/licenses/by-nc-sa/4.0/\"><img alt=\"Creative Commons License\" style=\"border-width:0\" src=\"https://i.creativecommons.org/l/by-nc-sa/4.0/88x31.png\" /></a><br />This work is licensed under a <a rel=\"license\" href=\"http://creativecommons.org/licenses/by-nc-sa/4.0/\">Creative Commons Attribution-NonCommercial-ShareAlike 4.0 International License</a>."
   ]
  },
  {
   "cell_type": "code",
   "execution_count": 1,
   "id": "b3abdc0a-46f7-437f-b183-dbe377a04895",
   "metadata": {},
   "outputs": [
    {
     "data": {
      "text/html": [
       "<style>.dashed-box{border:1px dashed #000!important}.dashed-box tr{background-color:#fff!important}.alt-tab{background-color:#000;color:#ffc351;padding:4px;font-size:1em;font-weight:700;font-family:monospace}</style>\n"
      ],
      "text/plain": [
       "<IPython.core.display.HTML object>"
      ]
     },
     "metadata": {},
     "output_type": "display_data"
    }
   ],
   "source": [
    "%%html\n",
    "<style>.dashed-box{border:1px dashed #000!important}.dashed-box tr{background-color:#fff!important}.alt-tab{background-color:#000;color:#ffc351;padding:4px;font-size:1em;font-weight:700;font-family:monospace}</style>"
   ]
  },
  {
   "cell_type": "markdown",
   "id": "c9747107-7a28-44c8-bf58-d331a980adfb",
   "metadata": {},
   "source": [
    "### Pacotes usados neste Notebook"
   ]
  },
  {
   "cell_type": "code",
   "execution_count": 2,
   "id": "92565816-abfa-4500-a3ac-8bed37521708",
   "metadata": {},
   "outputs": [],
   "source": [
    "import pandas as pd"
   ]
  },
  {
   "cell_type": "markdown",
   "id": "f13668d9-28c5-4725-9af6-cb21a7a0febe",
   "metadata": {},
   "source": [
    "<h1>Computando Quartis</h1><hr/>"
   ]
  },
  {
   "cell_type": "markdown",
   "id": "ae40a95a-8806-4442-a4cf-434eb58957c0",
   "metadata": {},
   "source": [
    "### 1. Dataset - Vôo Internacional"
   ]
  },
  {
   "cell_type": "code",
   "execution_count": 3,
   "id": "e53f79b0-50c1-46b0-9e7e-023a3a61f815",
   "metadata": {},
   "outputs": [],
   "source": [
    "# dataset completo\n",
    "data = pd.read_csv('./datasets/fake-passenger-weights.csv')"
   ]
  },
  {
   "cell_type": "code",
   "execution_count": 4,
   "id": "c76ebc14-e3ae-4be4-9a1e-2975d086dab9",
   "metadata": {},
   "outputs": [
    {
     "data": {
      "text/html": [
       "<div>\n",
       "<style scoped>\n",
       "    .dataframe tbody tr th:only-of-type {\n",
       "        vertical-align: middle;\n",
       "    }\n",
       "\n",
       "    .dataframe tbody tr th {\n",
       "        vertical-align: top;\n",
       "    }\n",
       "\n",
       "    .dataframe thead th {\n",
       "        text-align: right;\n",
       "    }\n",
       "</style>\n",
       "<table border=\"1\" class=\"dataframe\">\n",
       "  <thead>\n",
       "    <tr style=\"text-align: right;\">\n",
       "      <th></th>\n",
       "      <th>weight</th>\n",
       "    </tr>\n",
       "  </thead>\n",
       "  <tbody>\n",
       "    <tr>\n",
       "      <th>0</th>\n",
       "      <td>5</td>\n",
       "    </tr>\n",
       "    <tr>\n",
       "      <th>1</th>\n",
       "      <td>120</td>\n",
       "    </tr>\n",
       "    <tr>\n",
       "      <th>2</th>\n",
       "      <td>70</td>\n",
       "    </tr>\n",
       "    <tr>\n",
       "      <th>3</th>\n",
       "      <td>20</td>\n",
       "    </tr>\n",
       "    <tr>\n",
       "      <th>4</th>\n",
       "      <td>40</td>\n",
       "    </tr>\n",
       "    <tr>\n",
       "      <th>5</th>\n",
       "      <td>118</td>\n",
       "    </tr>\n",
       "    <tr>\n",
       "      <th>6</th>\n",
       "      <td>50</td>\n",
       "    </tr>\n",
       "    <tr>\n",
       "      <th>7</th>\n",
       "      <td>90</td>\n",
       "    </tr>\n",
       "    <tr>\n",
       "      <th>8</th>\n",
       "      <td>80</td>\n",
       "    </tr>\n",
       "    <tr>\n",
       "      <th>9</th>\n",
       "      <td>66</td>\n",
       "    </tr>\n",
       "    <tr>\n",
       "      <th>10</th>\n",
       "      <td>85</td>\n",
       "    </tr>\n",
       "    <tr>\n",
       "      <th>11</th>\n",
       "      <td>65</td>\n",
       "    </tr>\n",
       "    <tr>\n",
       "      <th>12</th>\n",
       "      <td>56</td>\n",
       "    </tr>\n",
       "    <tr>\n",
       "      <th>13</th>\n",
       "      <td>95</td>\n",
       "    </tr>\n",
       "    <tr>\n",
       "      <th>14</th>\n",
       "      <td>92</td>\n",
       "    </tr>\n",
       "    <tr>\n",
       "      <th>15</th>\n",
       "      <td>68</td>\n",
       "    </tr>\n",
       "    <tr>\n",
       "      <th>16</th>\n",
       "      <td>63</td>\n",
       "    </tr>\n",
       "    <tr>\n",
       "      <th>17</th>\n",
       "      <td>77</td>\n",
       "    </tr>\n",
       "    <tr>\n",
       "      <th>18</th>\n",
       "      <td>30</td>\n",
       "    </tr>\n",
       "    <tr>\n",
       "      <th>19</th>\n",
       "      <td>110</td>\n",
       "    </tr>\n",
       "  </tbody>\n",
       "</table>\n",
       "</div>"
      ],
      "text/plain": [
       "    weight\n",
       "0        5\n",
       "1      120\n",
       "2       70\n",
       "3       20\n",
       "4       40\n",
       "5      118\n",
       "6       50\n",
       "7       90\n",
       "8       80\n",
       "9       66\n",
       "10      85\n",
       "11      65\n",
       "12      56\n",
       "13      95\n",
       "14      92\n",
       "15      68\n",
       "16      63\n",
       "17      77\n",
       "18      30\n",
       "19     110"
      ]
     },
     "execution_count": 4,
     "metadata": {},
     "output_type": "execute_result"
    }
   ],
   "source": [
    "data"
   ]
  },
  {
   "cell_type": "code",
   "execution_count": 5,
   "id": "6968a8db-1da1-4078-8396-1eac73e3aac2",
   "metadata": {},
   "outputs": [],
   "source": [
    "# dataset com apenas as 11 primeiras instâncias\n",
    "data_11 = data[:11]"
   ]
  },
  {
   "cell_type": "code",
   "execution_count": 6,
   "id": "d1cd2367-341c-4879-a61c-e3130eaa1630",
   "metadata": {},
   "outputs": [
    {
     "data": {
      "text/html": [
       "<div>\n",
       "<style scoped>\n",
       "    .dataframe tbody tr th:only-of-type {\n",
       "        vertical-align: middle;\n",
       "    }\n",
       "\n",
       "    .dataframe tbody tr th {\n",
       "        vertical-align: top;\n",
       "    }\n",
       "\n",
       "    .dataframe thead th {\n",
       "        text-align: right;\n",
       "    }\n",
       "</style>\n",
       "<table border=\"1\" class=\"dataframe\">\n",
       "  <thead>\n",
       "    <tr style=\"text-align: right;\">\n",
       "      <th></th>\n",
       "      <th>weight</th>\n",
       "    </tr>\n",
       "  </thead>\n",
       "  <tbody>\n",
       "    <tr>\n",
       "      <th>0</th>\n",
       "      <td>5</td>\n",
       "    </tr>\n",
       "    <tr>\n",
       "      <th>1</th>\n",
       "      <td>120</td>\n",
       "    </tr>\n",
       "    <tr>\n",
       "      <th>2</th>\n",
       "      <td>70</td>\n",
       "    </tr>\n",
       "    <tr>\n",
       "      <th>3</th>\n",
       "      <td>20</td>\n",
       "    </tr>\n",
       "    <tr>\n",
       "      <th>4</th>\n",
       "      <td>40</td>\n",
       "    </tr>\n",
       "    <tr>\n",
       "      <th>5</th>\n",
       "      <td>118</td>\n",
       "    </tr>\n",
       "    <tr>\n",
       "      <th>6</th>\n",
       "      <td>50</td>\n",
       "    </tr>\n",
       "    <tr>\n",
       "      <th>7</th>\n",
       "      <td>90</td>\n",
       "    </tr>\n",
       "    <tr>\n",
       "      <th>8</th>\n",
       "      <td>80</td>\n",
       "    </tr>\n",
       "    <tr>\n",
       "      <th>9</th>\n",
       "      <td>66</td>\n",
       "    </tr>\n",
       "    <tr>\n",
       "      <th>10</th>\n",
       "      <td>85</td>\n",
       "    </tr>\n",
       "  </tbody>\n",
       "</table>\n",
       "</div>"
      ],
      "text/plain": [
       "    weight\n",
       "0        5\n",
       "1      120\n",
       "2       70\n",
       "3       20\n",
       "4       40\n",
       "5      118\n",
       "6       50\n",
       "7       90\n",
       "8       80\n",
       "9       66\n",
       "10      85"
      ]
     },
     "execution_count": 6,
     "metadata": {},
     "output_type": "execute_result"
    }
   ],
   "source": [
    "data_11"
   ]
  },
  {
   "cell_type": "markdown",
   "id": "0f1aca7c-0619-4fa8-93c1-89cc23441354",
   "metadata": {},
   "source": [
    "### 2. Computando Quartis"
   ]
  },
  {
   "cell_type": "markdown",
   "id": "ffb04bc4-0205-44b3-baa9-c588ccce5dbc",
   "metadata": {},
   "source": [
    "### 2.1. Dataset com número ímpar de instâncias"
   ]
  },
  {
   "cell_type": "markdown",
   "id": "655d696d-4684-4294-aba9-d99f7f1e73d2",
   "metadata": {},
   "source": [
    "#### **Interpolação: Midpoint**"
   ]
  },
  {
   "cell_type": "code",
   "execution_count": 7,
   "id": "1bf38093-ddcd-4737-ba7d-c8ca2b2c58f2",
   "metadata": {},
   "outputs": [
    {
     "data": {
      "text/plain": [
       "weight    70.0\n",
       "Name: 0.5, dtype: float64"
      ]
     },
     "execution_count": 7,
     "metadata": {},
     "output_type": "execute_result"
    }
   ],
   "source": [
    "Q2 = data_11.quantile(q=0.5, interpolation='midpoint')\n",
    "Q2"
   ]
  },
  {
   "cell_type": "code",
   "execution_count": 8,
   "id": "81c12407-7b28-461a-9c3e-5f95d1d13686",
   "metadata": {},
   "outputs": [
    {
     "data": {
      "text/plain": [
       "weight    45.0\n",
       "Name: 0.25, dtype: float64"
      ]
     },
     "execution_count": 8,
     "metadata": {},
     "output_type": "execute_result"
    }
   ],
   "source": [
    "Q1 = data_11.quantile(q=0.25, interpolation='midpoint')\n",
    "Q1"
   ]
  },
  {
   "cell_type": "code",
   "execution_count": 9,
   "id": "0159b51e-3a15-4d04-bf65-09a40f6f1949",
   "metadata": {},
   "outputs": [
    {
     "data": {
      "text/plain": [
       "weight    87.5\n",
       "Name: 0.75, dtype: float64"
      ]
     },
     "execution_count": 9,
     "metadata": {},
     "output_type": "execute_result"
    }
   ],
   "source": [
    "Q3 = data_11.quantile(q=0.75, interpolation='midpoint')\n",
    "Q3"
   ]
  },
  {
   "cell_type": "markdown",
   "id": "50ceafe3-23cb-4d3c-befe-1428b5e90c1b",
   "metadata": {},
   "source": [
    "#### **Interpolação: Linear**"
   ]
  },
  {
   "cell_type": "code",
   "execution_count": 10,
   "id": "5a5769c9-3af5-4984-ab95-9675f96b482c",
   "metadata": {},
   "outputs": [
    {
     "data": {
      "text/plain": [
       "weight    70.0\n",
       "Name: 0.5, dtype: float64"
      ]
     },
     "execution_count": 10,
     "metadata": {},
     "output_type": "execute_result"
    }
   ],
   "source": [
    "Q2 = data_11.quantile(q=0.5)\n",
    "Q2"
   ]
  },
  {
   "cell_type": "code",
   "execution_count": 11,
   "id": "ada5494e-9f54-4c77-99f9-1483d6933203",
   "metadata": {},
   "outputs": [
    {
     "data": {
      "text/plain": [
       "weight    45.0\n",
       "Name: 0.25, dtype: float64"
      ]
     },
     "execution_count": 11,
     "metadata": {},
     "output_type": "execute_result"
    }
   ],
   "source": [
    "Q1 = data_11.quantile(q=0.25)\n",
    "Q1"
   ]
  },
  {
   "cell_type": "code",
   "execution_count": 14,
   "id": "08052c21-6d3c-4393-a8ab-f3259fb323a9",
   "metadata": {},
   "outputs": [
    {
     "data": {
      "text/plain": [
       "weight    87.5\n",
       "Name: 0.75, dtype: float64"
      ]
     },
     "execution_count": 14,
     "metadata": {},
     "output_type": "execute_result"
    }
   ],
   "source": [
    "Q3 = data_11.quantile(q=0.75)\n",
    "Q3"
   ]
  },
  {
   "cell_type": "code",
   "execution_count": 15,
   "id": "ccb1b711-ecf5-480b-ae66-91f2c0c9cfaa",
   "metadata": {},
   "outputs": [
    {
     "data": {
      "text/html": [
       "<div>\n",
       "<style scoped>\n",
       "    .dataframe tbody tr th:only-of-type {\n",
       "        vertical-align: middle;\n",
       "    }\n",
       "\n",
       "    .dataframe tbody tr th {\n",
       "        vertical-align: top;\n",
       "    }\n",
       "\n",
       "    .dataframe thead th {\n",
       "        text-align: right;\n",
       "    }\n",
       "</style>\n",
       "<table border=\"1\" class=\"dataframe\">\n",
       "  <thead>\n",
       "    <tr style=\"text-align: right;\">\n",
       "      <th></th>\n",
       "      <th>weight</th>\n",
       "    </tr>\n",
       "  </thead>\n",
       "  <tbody>\n",
       "    <tr>\n",
       "      <th>count</th>\n",
       "      <td>11.000000</td>\n",
       "    </tr>\n",
       "    <tr>\n",
       "      <th>mean</th>\n",
       "      <td>67.636364</td>\n",
       "    </tr>\n",
       "    <tr>\n",
       "      <th>std</th>\n",
       "      <td>36.753973</td>\n",
       "    </tr>\n",
       "    <tr>\n",
       "      <th>min</th>\n",
       "      <td>5.000000</td>\n",
       "    </tr>\n",
       "    <tr>\n",
       "      <th>25%</th>\n",
       "      <td>45.000000</td>\n",
       "    </tr>\n",
       "    <tr>\n",
       "      <th>50%</th>\n",
       "      <td>70.000000</td>\n",
       "    </tr>\n",
       "    <tr>\n",
       "      <th>75%</th>\n",
       "      <td>87.500000</td>\n",
       "    </tr>\n",
       "    <tr>\n",
       "      <th>max</th>\n",
       "      <td>120.000000</td>\n",
       "    </tr>\n",
       "  </tbody>\n",
       "</table>\n",
       "</div>"
      ],
      "text/plain": [
       "           weight\n",
       "count   11.000000\n",
       "mean    67.636364\n",
       "std     36.753973\n",
       "min      5.000000\n",
       "25%     45.000000\n",
       "50%     70.000000\n",
       "75%     87.500000\n",
       "max    120.000000"
      ]
     },
     "execution_count": 15,
     "metadata": {},
     "output_type": "execute_result"
    }
   ],
   "source": [
    "# describe\n",
    "data_11.describe()"
   ]
  },
  {
   "cell_type": "markdown",
   "id": "032b7797-951e-4c3a-8d54-7876df24bc86",
   "metadata": {},
   "source": [
    "### 2.2. Dataset com número par de instâncias"
   ]
  },
  {
   "cell_type": "markdown",
   "id": "7a31e3a6-ced4-46f7-8318-c031d48446ac",
   "metadata": {},
   "source": [
    "#### **Interpolação: Midpoint**"
   ]
  },
  {
   "cell_type": "code",
   "execution_count": 13,
   "id": "d1616448-1dd2-4b84-ab24-c8ae41a81f11",
   "metadata": {},
   "outputs": [
    {
     "data": {
      "text/html": [
       "<div>\n",
       "<style scoped>\n",
       "    .dataframe tbody tr th:only-of-type {\n",
       "        vertical-align: middle;\n",
       "    }\n",
       "\n",
       "    .dataframe tbody tr th {\n",
       "        vertical-align: top;\n",
       "    }\n",
       "\n",
       "    .dataframe thead th {\n",
       "        text-align: right;\n",
       "    }\n",
       "</style>\n",
       "<table border=\"1\" class=\"dataframe\">\n",
       "  <thead>\n",
       "    <tr style=\"text-align: right;\">\n",
       "      <th></th>\n",
       "      <th>weight</th>\n",
       "    </tr>\n",
       "  </thead>\n",
       "  <tbody>\n",
       "    <tr>\n",
       "      <th>0</th>\n",
       "      <td>5</td>\n",
       "    </tr>\n",
       "    <tr>\n",
       "      <th>1</th>\n",
       "      <td>120</td>\n",
       "    </tr>\n",
       "    <tr>\n",
       "      <th>2</th>\n",
       "      <td>70</td>\n",
       "    </tr>\n",
       "    <tr>\n",
       "      <th>3</th>\n",
       "      <td>20</td>\n",
       "    </tr>\n",
       "    <tr>\n",
       "      <th>4</th>\n",
       "      <td>40</td>\n",
       "    </tr>\n",
       "    <tr>\n",
       "      <th>5</th>\n",
       "      <td>118</td>\n",
       "    </tr>\n",
       "    <tr>\n",
       "      <th>6</th>\n",
       "      <td>50</td>\n",
       "    </tr>\n",
       "    <tr>\n",
       "      <th>7</th>\n",
       "      <td>90</td>\n",
       "    </tr>\n",
       "    <tr>\n",
       "      <th>8</th>\n",
       "      <td>80</td>\n",
       "    </tr>\n",
       "    <tr>\n",
       "      <th>9</th>\n",
       "      <td>66</td>\n",
       "    </tr>\n",
       "    <tr>\n",
       "      <th>10</th>\n",
       "      <td>85</td>\n",
       "    </tr>\n",
       "    <tr>\n",
       "      <th>11</th>\n",
       "      <td>65</td>\n",
       "    </tr>\n",
       "    <tr>\n",
       "      <th>12</th>\n",
       "      <td>56</td>\n",
       "    </tr>\n",
       "    <tr>\n",
       "      <th>13</th>\n",
       "      <td>95</td>\n",
       "    </tr>\n",
       "    <tr>\n",
       "      <th>14</th>\n",
       "      <td>92</td>\n",
       "    </tr>\n",
       "    <tr>\n",
       "      <th>15</th>\n",
       "      <td>68</td>\n",
       "    </tr>\n",
       "    <tr>\n",
       "      <th>16</th>\n",
       "      <td>63</td>\n",
       "    </tr>\n",
       "    <tr>\n",
       "      <th>17</th>\n",
       "      <td>77</td>\n",
       "    </tr>\n",
       "    <tr>\n",
       "      <th>18</th>\n",
       "      <td>30</td>\n",
       "    </tr>\n",
       "    <tr>\n",
       "      <th>19</th>\n",
       "      <td>110</td>\n",
       "    </tr>\n",
       "  </tbody>\n",
       "</table>\n",
       "</div>"
      ],
      "text/plain": [
       "    weight\n",
       "0        5\n",
       "1      120\n",
       "2       70\n",
       "3       20\n",
       "4       40\n",
       "5      118\n",
       "6       50\n",
       "7       90\n",
       "8       80\n",
       "9       66\n",
       "10      85\n",
       "11      65\n",
       "12      56\n",
       "13      95\n",
       "14      92\n",
       "15      68\n",
       "16      63\n",
       "17      77\n",
       "18      30\n",
       "19     110"
      ]
     },
     "execution_count": 13,
     "metadata": {},
     "output_type": "execute_result"
    }
   ],
   "source": [
    "data"
   ]
  },
  {
   "cell_type": "code",
   "execution_count": null,
   "id": "fcfd92e2-ac63-4268-a16e-9503f04df680",
   "metadata": {},
   "outputs": [],
   "source": []
  },
  {
   "cell_type": "code",
   "execution_count": null,
   "id": "35429246-8d2c-4308-86bd-3ba980e4b4a0",
   "metadata": {},
   "outputs": [],
   "source": []
  },
  {
   "cell_type": "markdown",
   "id": "72ce9760-49ce-4c51-82c6-d469889f1dd9",
   "metadata": {},
   "source": [
    "#### **Interpolação: Linear**"
   ]
  },
  {
   "cell_type": "code",
   "execution_count": null,
   "id": "8be20c8c-b8c6-4b60-83ae-d4763980b375",
   "metadata": {},
   "outputs": [],
   "source": []
  },
  {
   "cell_type": "code",
   "execution_count": null,
   "id": "7b7b609e-d0cd-4400-84d6-546823dc6bc5",
   "metadata": {},
   "outputs": [],
   "source": []
  },
  {
   "cell_type": "code",
   "execution_count": null,
   "id": "3c164424-3793-4083-ad1c-90a342cdbc27",
   "metadata": {},
   "outputs": [],
   "source": []
  }
 ],
 "metadata": {
  "kernelspec": {
   "display_name": "Python 3",
   "language": "python",
   "name": "python3"
  },
  "language_info": {
   "codemirror_mode": {
    "name": "ipython",
    "version": 3
   },
   "file_extension": ".py",
   "mimetype": "text/x-python",
   "name": "python",
   "nbconvert_exporter": "python",
   "pygments_lexer": "ipython3",
   "version": "3.8.5"
  }
 },
 "nbformat": 4,
 "nbformat_minor": 5
}

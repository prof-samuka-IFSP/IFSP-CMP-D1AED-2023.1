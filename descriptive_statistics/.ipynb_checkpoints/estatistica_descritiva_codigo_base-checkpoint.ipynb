{
 "cells": [
  {
   "cell_type": "markdown",
   "id": "22d095dc-9744-4b16-ac88-a936ca4a7dfb",
   "metadata": {},
   "source": [
    "**D1DAE: Análise Estatística para Ciência de Dados** <br/>\n",
    "IFSP Campinas\n",
    "\n",
    "Prof. Dr. Samuel Martins (Samuka) <br/><br/>\n",
    "\n",
    "<a rel=\"license\" href=\"http://creativecommons.org/licenses/by-nc-sa/4.0/\"><img alt=\"Creative Commons License\" style=\"border-width:0\" src=\"https://i.creativecommons.org/l/by-nc-sa/4.0/88x31.png\" /></a><br />This work is licensed under a <a rel=\"license\" href=\"http://creativecommons.org/licenses/by-nc-sa/4.0/\">Creative Commons Attribution-NonCommercial-ShareAlike 4.0 International License</a>."
   ]
  },
  {
   "cell_type": "markdown",
   "id": "ccdb4715-ccfc-4c2b-bbf3-f98f103c8e48",
   "metadata": {},
   "source": [
    "#### Custom CSS style"
   ]
  },
  {
   "cell_type": "code",
   "execution_count": null,
   "id": "c1379e51-215d-4ca9-abe8-24772c9858c9",
   "metadata": {},
   "outputs": [],
   "source": [
    "%%html\n",
    "<style>.dashed-box{border:1px dashed #000!important}.dashed-box tr{background-color:#fff!important}.alt-tab{background-color:#000;color:#ffc351;padding:4px;font-size:1em;font-weight:700;font-family:monospace}</style>"
   ]
  },
  {
   "cell_type": "markdown",
   "id": "f0318475-36f5-4cf9-81fa-1583cba08371",
   "metadata": {},
   "source": [
    "### Pacotes usados neste Notebook"
   ]
  },
  {
   "cell_type": "code",
   "execution_count": null,
   "id": "cd67e125-4cf4-42e7-a8bc-dab5827abd6b",
   "metadata": {},
   "outputs": [],
   "source": [
    "# pacotes usados neste notebook\n",
    "import pandas as pd\n",
    "import seaborn as sns\n",
    "import matplotlib.pyplot as plt"
   ]
  },
  {
   "cell_type": "markdown",
   "id": "c7e5abcd-5978-47b9-b7af-0b39a081ddce",
   "metadata": {},
   "source": [
    "<h1>Estatística Descritiva</h1><hr/>"
   ]
  },
  {
   "cell_type": "markdown",
   "id": "f3ace845-f5ea-4b54-9a3a-d7c55e3acea6",
   "metadata": {},
   "source": [
    "<h2>1. Problema e Dataset</h2>\n",
    "<hr/>"
   ]
  },
  {
   "cell_type": "markdown",
   "id": "54de3103-6793-47e1-8d33-79c64619a3fa",
   "metadata": {},
   "source": [
    "**Dataset**: Gas Prices in Brazil: https://www.kaggle.com/matheusfreitag/gas-prices-in-brazil <br/>\n",
    "\n",
    "Este dataset contém os **registros dos preços médios semanais dos combustíveis do Brasil entre os anos de 2004 e 2019**. <br/>\n",
    "Cada *observação (registro/linha)* consiste em um registro de preço aferido para um dado tipo de combustível em uma dada localidade do Brasil. <br/>\n",
    "Alguns dos principais *atributos* (colunas) do dataset são: 'ESTADO', 'PRODUTO', 'NÚMERO DE POSTOS PESQUISADOS', 'PREÇO MÉDIO REVENDA'."
   ]
  },
  {
   "cell_type": "markdown",
   "id": "2e69488a-a427-4f06-ab3c-63e8b89f3826",
   "metadata": {},
   "source": [
    "<table align=\"left\" class='dashed-box'>\n",
    "<tr>\n",
    "    <td>💡</td>\n",
    "    <td>O dataset utilizado neste notebook já foi _pré-processado_ anteriormente. Para mais informações, cheque os vídeos mostrados do curso <a href=\"https://www.youtube.com/playlist?list=PL3ZslI15yo2pfkf7EGNR14xTwe-wZ2bNX\">\"Pandas Essencial\" no YouTube</a>, onde realizamos tal preprocessamento.</td>\n",
    "</tr>\n",
    "</table><br/><br/>"
   ]
  },
  {
   "cell_type": "markdown",
   "id": "d913d3c1-2673-4909-b2e1-ef9fe5b90297",
   "metadata": {},
   "source": [
    "### 1.1 Importando o Dataset"
   ]
  },
  {
   "cell_type": "code",
   "execution_count": null,
   "id": "0411f38e-cd25-4aa4-b186-ad6f20b9d032",
   "metadata": {},
   "outputs": [],
   "source": []
  },
  {
   "cell_type": "code",
   "execution_count": null,
   "id": "f9bab3ae-5d2e-4bab-8b42-f61f1d4d3844",
   "metadata": {},
   "outputs": [],
   "source": []
  },
  {
   "cell_type": "markdown",
   "id": "894bc011-fd51-48b0-9d51-ac626ec7a98e",
   "metadata": {},
   "source": [
    "### 1.2. Mostrando a cabeça do Dataframe"
   ]
  },
  {
   "cell_type": "code",
   "execution_count": null,
   "id": "ee7f727b-442a-4fee-ac13-aa926451e1f4",
   "metadata": {},
   "outputs": [],
   "source": [
    "# 5 primeiras linhas/instâncias\n"
   ]
  },
  {
   "cell_type": "code",
   "execution_count": null,
   "id": "17753ede-a038-4fc7-a56e-fde37919c418",
   "metadata": {},
   "outputs": [],
   "source": [
    "# 10 primeiras linhas/instâncias\n"
   ]
  },
  {
   "cell_type": "markdown",
   "id": "47c976e2-9681-4e64-8fc5-afd74c6eeba4",
   "metadata": {},
   "source": [
    "### 1.3. Informações básicas do Dataset"
   ]
  },
  {
   "cell_type": "code",
   "execution_count": null,
   "id": "816c1595-cb46-4d58-b2ee-a57365798fc4",
   "metadata": {},
   "outputs": [],
   "source": []
  },
  {
   "cell_type": "markdown",
   "id": "186a53a7-0730-41a9-88b4-2d923076fc56",
   "metadata": {},
   "source": [
    "#### **Estatísticas Descritivas Gerais**\n",
    "PS: considerando _todo o dataset_."
   ]
  },
  {
   "cell_type": "code",
   "execution_count": null,
   "id": "228c93d7-a162-4471-8dec-91fcfd8042d1",
   "metadata": {},
   "outputs": [],
   "source": []
  },
  {
   "cell_type": "markdown",
   "id": "b57ac804-ec34-4a25-b504-9f2de696767a",
   "metadata": {},
   "source": [
    "<h2>2. Extraindo Estatísticas Descritivas Mais Específicas</h2>\n",
    "<hr/>"
   ]
  },
  {
   "cell_type": "markdown",
   "id": "18eb5d99-dc49-44df-a831-d0ec00857dcd",
   "metadata": {},
   "source": [
    "### 2.1 Como os preços da Gasolina Comum em São Paulo variaram em 2018?"
   ]
  },
  {
   "cell_type": "code",
   "execution_count": null,
   "id": "bc194d8e-6c0e-458f-ab56-4f59489fc300",
   "metadata": {},
   "outputs": [],
   "source": []
  },
  {
   "cell_type": "code",
   "execution_count": null,
   "id": "d41a5753-afed-4b8a-a4f4-b10b47c783bb",
   "metadata": {},
   "outputs": [],
   "source": []
  },
  {
   "cell_type": "markdown",
   "id": "bc9d4d4d-7f6d-4e2f-94de-e3ac137f982c",
   "metadata": {},
   "source": [
    "#### **Estatísticas Descritivas**"
   ]
  },
  {
   "cell_type": "code",
   "execution_count": null,
   "id": "18f29fee-4e13-44c9-86b2-5f127a44a85e",
   "metadata": {},
   "outputs": [],
   "source": []
  },
  {
   "cell_type": "code",
   "execution_count": null,
   "id": "5bd4feb8-8649-459f-a8f3-9a1d452ea802",
   "metadata": {},
   "outputs": [],
   "source": []
  },
  {
   "cell_type": "code",
   "execution_count": null,
   "id": "748a008c-41f3-4478-a1f0-d313c3c5f775",
   "metadata": {},
   "outputs": [],
   "source": []
  },
  {
   "cell_type": "markdown",
   "id": "d8aaef9a-68c0-4cf3-947b-2dacf4a718aa",
   "metadata": {},
   "source": [
    "#### **Tendência Central dos Preços**"
   ]
  },
  {
   "cell_type": "markdown",
   "id": "abbc0a1a-65ca-40e7-bec0-679d030dd2a4",
   "metadata": {},
   "source": [
    "##### **Média**"
   ]
  },
  {
   "cell_type": "code",
   "execution_count": null,
   "id": "95b96b5a-36f0-47b5-b08c-08cc3cd89c22",
   "metadata": {},
   "outputs": [],
   "source": [
    "print(f'O preço médio da Gasolina no Estado de São em 2018 foi de R$ {df[\"PREÇO MÉDIO REVENDA\"].mean():.2f} ± {df[\"PREÇO MÉDIO REVENDA\"].std():.2f}')"
   ]
  },
  {
   "cell_type": "code",
   "execution_count": null,
   "id": "3a6a0198-b125-4747-af7e-3a23f284fa47",
   "metadata": {},
   "outputs": [],
   "source": []
  },
  {
   "cell_type": "markdown",
   "id": "d6bd8ee5-a871-463b-9de3-89b10ae78ab9",
   "metadata": {},
   "source": [
    "##### **Mediana**"
   ]
  },
  {
   "cell_type": "code",
   "execution_count": null,
   "id": "7024a9ce-b3b1-4438-8893-c766eec88534",
   "metadata": {},
   "outputs": [],
   "source": [
    "print(f'A mediana do preço da Gasolina Comum no estado de SP em 2018 é R$ {df[\"PREÇO MÉDIO REVENDA\"].median():.2f}')"
   ]
  },
  {
   "cell_type": "markdown",
   "id": "eab353e9-2298-498a-b0bb-8d8a07a40613",
   "metadata": {},
   "source": [
    "### **Variabilidade**"
   ]
  },
  {
   "cell_type": "markdown",
   "id": "263684ab-3852-4228-877e-810a87d93107",
   "metadata": {},
   "source": [
    "#### Histograma com número de bins padrão:"
   ]
  },
  {
   "cell_type": "code",
   "execution_count": null,
   "id": "77cd5e87-2452-40a7-99b1-a3ae19b32f8a",
   "metadata": {},
   "outputs": [],
   "source": []
  },
  {
   "cell_type": "markdown",
   "id": "fc741576-dabb-4ef7-b81b-8c08dcf5810e",
   "metadata": {},
   "source": [
    "#### Alterando o **número de bins** do Histograma."
   ]
  },
  {
   "cell_type": "code",
   "execution_count": null,
   "id": "9a7fd35d-9dc8-44e8-976f-8883b93f76a2",
   "metadata": {},
   "outputs": [],
   "source": []
  },
  {
   "cell_type": "markdown",
   "id": "872de305-81d0-4770-b0cc-bbda4289b250",
   "metadata": {},
   "source": [
    "#### Checando a variabilidade usando **BoxPlots**"
   ]
  },
  {
   "cell_type": "code",
   "execution_count": null,
   "id": "c4db6074-b8f2-4295-8b2f-3a5967d7a83a",
   "metadata": {},
   "outputs": [],
   "source": []
  },
  {
   "cell_type": "markdown",
   "id": "48a6dd26-38c7-4726-a014-dd1be6e86c88",
   "metadata": {},
   "source": [
    "#### Checando a variabilidade usando **Violin Plot**"
   ]
  },
  {
   "cell_type": "code",
   "execution_count": null,
   "id": "e1e2ca04-ecd1-476a-b3ec-5099c96ddac8",
   "metadata": {},
   "outputs": [],
   "source": []
  },
  {
   "cell_type": "markdown",
   "id": "a05ac0f0-af95-4542-8a56-a3ca524beead",
   "metadata": {},
   "source": [
    "### 2.2 Há uma correlação linear entre os Preços de Distribuição e Preços de Revenda dos combustíveis?"
   ]
  },
  {
   "cell_type": "markdown",
   "id": "0e037a83-3ea0-4d19-85bb-4b846c8335cd",
   "metadata": {},
   "source": [
    "Consideraremos todo o dataset para tal consulta."
   ]
  },
  {
   "cell_type": "code",
   "execution_count": null,
   "id": "d9894530-3e83-48e9-971b-cc102e7c5b4e",
   "metadata": {},
   "outputs": [],
   "source": []
  },
  {
   "cell_type": "code",
   "execution_count": null,
   "id": "7d0d2146-7435-4344-a42f-b96566dcda41",
   "metadata": {},
   "outputs": [],
   "source": [
    "# mostra a correlação de todo mundo com todo mundo\n"
   ]
  },
  {
   "cell_type": "code",
   "execution_count": null,
   "id": "7e5ec33b-3225-42ca-b170-a39a3ec18444",
   "metadata": {},
   "outputs": [],
   "source": [
    "# filtrando apenas as colunas/variáveis de interesse\n"
   ]
  },
  {
   "cell_type": "code",
   "execution_count": null,
   "id": "578790b9-eaab-49f2-8899-a9f0b4ede35d",
   "metadata": {},
   "outputs": [],
   "source": []
  },
  {
   "cell_type": "code",
   "execution_count": null,
   "id": "e72296e7-aaf6-42bd-93e4-d6994c859de7",
   "metadata": {},
   "outputs": [],
   "source": []
  },
  {
   "cell_type": "markdown",
   "id": "70c3d0c8-e229-494a-862d-1ecc0010b476",
   "metadata": {},
   "source": [
    "<h2>3. Exercícios</h2>\n",
    "<hr/>"
   ]
  },
  {
   "cell_type": "markdown",
   "id": "eb16c89a-021d-4d6f-8020-eee3f8de8853",
   "metadata": {},
   "source": [
    "### 3.1 Como os preços da Gasolina Comum e do Etanol em São Paulo variaram em 2018?"
   ]
  },
  {
   "cell_type": "code",
   "execution_count": null,
   "id": "afddb3e9-a8c8-4dcc-9822-73282178c456",
   "metadata": {},
   "outputs": [],
   "source": []
  },
  {
   "cell_type": "markdown",
   "id": "d481a0f0-759c-4687-8bda-ce8c01146030",
   "metadata": {},
   "source": [
    "### 3.2 Como os preços da Gasolina Comum e Etanol variaram no estado de SP ao longo dos anos?\n",
    "Dica: use o _lineplot_ (gráfico de linha)."
   ]
  },
  {
   "cell_type": "code",
   "execution_count": null,
   "id": "192214f6-4fdb-452d-ba57-11ac9bc8e4b6",
   "metadata": {},
   "outputs": [],
   "source": []
  },
  {
   "cell_type": "markdown",
   "id": "e8c1172d-abce-46fc-ae5e-eb36fe3d718f",
   "metadata": {},
   "source": [
    "### 3.3 Qual a correlação entre o Preço de Distribuição e de Revenda da Gasolina Comum?"
   ]
  },
  {
   "cell_type": "code",
   "execution_count": null,
   "id": "6b7b547e-b026-4526-9a40-3017d04316b0",
   "metadata": {},
   "outputs": [],
   "source": []
  }
 ],
 "metadata": {
  "kernelspec": {
   "display_name": "Python 3",
   "language": "python",
   "name": "python3"
  },
  "language_info": {
   "codemirror_mode": {
    "name": "ipython",
    "version": 3
   },
   "file_extension": ".py",
   "mimetype": "text/x-python",
   "name": "python",
   "nbconvert_exporter": "python",
   "pygments_lexer": "ipython3",
   "version": "3.8.5"
  }
 },
 "nbformat": 4,
 "nbformat_minor": 5
}

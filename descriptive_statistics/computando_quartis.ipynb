{
 "cells": [
  {
   "cell_type": "markdown",
   "id": "99892e09-d290-430e-8293-04155244f590",
   "metadata": {},
   "source": [
    "**D1DAE: Análise Estatística para Ciência de Dados** <br/>\n",
    "IFSP Campinas\n",
    "\n",
    "Prof. Dr. Samuel Martins (Samuka) <br/><br/>\n",
    "\n",
    "<a rel=\"license\" href=\"http://creativecommons.org/licenses/by-nc-sa/4.0/\"><img alt=\"Creative Commons License\" style=\"border-width:0\" src=\"https://i.creativecommons.org/l/by-nc-sa/4.0/88x31.png\" /></a><br />This work is licensed under a <a rel=\"license\" href=\"http://creativecommons.org/licenses/by-nc-sa/4.0/\">Creative Commons Attribution-NonCommercial-ShareAlike 4.0 International License</a>."
   ]
  },
  {
   "cell_type": "code",
   "execution_count": null,
   "id": "b3abdc0a-46f7-437f-b183-dbe377a04895",
   "metadata": {},
   "outputs": [],
   "source": [
    "%%html\n",
    "<style>.dashed-box{border:1px dashed #000!important}.dashed-box tr{background-color:#fff!important}.alt-tab{background-color:#000;color:#ffc351;padding:4px;font-size:1em;font-weight:700;font-family:monospace}</style>"
   ]
  },
  {
   "cell_type": "markdown",
   "id": "c9747107-7a28-44c8-bf58-d331a980adfb",
   "metadata": {},
   "source": [
    "### Pacotes usados neste Notebook"
   ]
  },
  {
   "cell_type": "code",
   "execution_count": null,
   "id": "92565816-abfa-4500-a3ac-8bed37521708",
   "metadata": {},
   "outputs": [],
   "source": [
    "import pandas as pd"
   ]
  },
  {
   "cell_type": "markdown",
   "id": "f13668d9-28c5-4725-9af6-cb21a7a0febe",
   "metadata": {},
   "source": [
    "<h1>Computando Quartis</h1><hr/>"
   ]
  },
  {
   "cell_type": "markdown",
   "id": "ae40a95a-8806-4442-a4cf-434eb58957c0",
   "metadata": {},
   "source": [
    "## 1. Dataset - Vôo Internacional"
   ]
  },
  {
   "cell_type": "code",
   "execution_count": null,
   "id": "e53f79b0-50c1-46b0-9e7e-023a3a61f815",
   "metadata": {},
   "outputs": [],
   "source": [
    "# dataset completo\n",
    "data = pd.read_csv('./datasets/fake-passenger-weights.csv')"
   ]
  },
  {
   "cell_type": "code",
   "execution_count": null,
   "id": "c76ebc14-e3ae-4be4-9a1e-2975d086dab9",
   "metadata": {},
   "outputs": [],
   "source": [
    "data"
   ]
  },
  {
   "cell_type": "code",
   "execution_count": null,
   "id": "6968a8db-1da1-4078-8396-1eac73e3aac2",
   "metadata": {},
   "outputs": [],
   "source": [
    "# dataset com apenas as 11 primeiras instâncias\n",
    "data_11 = data[:11]"
   ]
  },
  {
   "cell_type": "code",
   "execution_count": null,
   "id": "d1cd2367-341c-4879-a61c-e3130eaa1630",
   "metadata": {},
   "outputs": [],
   "source": [
    "data_11"
   ]
  },
  {
   "cell_type": "markdown",
   "id": "0f1aca7c-0619-4fa8-93c1-89cc23441354",
   "metadata": {},
   "source": [
    "## 2. Computando Quartis"
   ]
  },
  {
   "cell_type": "markdown",
   "id": "ffb04bc4-0205-44b3-baa9-c588ccce5dbc",
   "metadata": {},
   "source": [
    "### 2.1. Dataset com número ímpar de instâncias"
   ]
  },
  {
   "cell_type": "markdown",
   "id": "655d696d-4684-4294-aba9-d99f7f1e73d2",
   "metadata": {},
   "source": [
    "#### **Interpolação: Midpoint**"
   ]
  },
  {
   "cell_type": "code",
   "execution_count": null,
   "id": "1bf38093-ddcd-4737-ba7d-c8ca2b2c58f2",
   "metadata": {},
   "outputs": [],
   "source": []
  },
  {
   "cell_type": "code",
   "execution_count": null,
   "id": "81c12407-7b28-461a-9c3e-5f95d1d13686",
   "metadata": {},
   "outputs": [],
   "source": []
  },
  {
   "cell_type": "code",
   "execution_count": null,
   "id": "0159b51e-3a15-4d04-bf65-09a40f6f1949",
   "metadata": {},
   "outputs": [],
   "source": []
  },
  {
   "cell_type": "markdown",
   "id": "50ceafe3-23cb-4d3c-befe-1428b5e90c1b",
   "metadata": {},
   "source": [
    "#### **Interpolação: Linear**"
   ]
  },
  {
   "cell_type": "code",
   "execution_count": null,
   "id": "5a5769c9-3af5-4984-ab95-9675f96b482c",
   "metadata": {},
   "outputs": [],
   "source": []
  },
  {
   "cell_type": "code",
   "execution_count": null,
   "id": "ada5494e-9f54-4c77-99f9-1483d6933203",
   "metadata": {},
   "outputs": [],
   "source": []
  },
  {
   "cell_type": "code",
   "execution_count": null,
   "id": "08052c21-6d3c-4393-a8ab-f3259fb323a9",
   "metadata": {},
   "outputs": [],
   "source": []
  },
  {
   "cell_type": "markdown",
   "id": "032b7797-951e-4c3a-8d54-7876df24bc86",
   "metadata": {},
   "source": [
    "### 2.2. Dataset com número par de instâncias"
   ]
  },
  {
   "cell_type": "markdown",
   "id": "7a31e3a6-ced4-46f7-8318-c031d48446ac",
   "metadata": {},
   "source": [
    "#### **Interpolação: Midpoint**"
   ]
  },
  {
   "cell_type": "code",
   "execution_count": null,
   "id": "d1616448-1dd2-4b84-ab24-c8ae41a81f11",
   "metadata": {},
   "outputs": [],
   "source": []
  },
  {
   "cell_type": "code",
   "execution_count": null,
   "id": "fcfd92e2-ac63-4268-a16e-9503f04df680",
   "metadata": {},
   "outputs": [],
   "source": []
  },
  {
   "cell_type": "code",
   "execution_count": null,
   "id": "35429246-8d2c-4308-86bd-3ba980e4b4a0",
   "metadata": {},
   "outputs": [],
   "source": []
  },
  {
   "cell_type": "markdown",
   "id": "72ce9760-49ce-4c51-82c6-d469889f1dd9",
   "metadata": {},
   "source": [
    "#### **Interpolação: Linear**"
   ]
  },
  {
   "cell_type": "code",
   "execution_count": null,
   "id": "8be20c8c-b8c6-4b60-83ae-d4763980b375",
   "metadata": {},
   "outputs": [],
   "source": []
  },
  {
   "cell_type": "code",
   "execution_count": null,
   "id": "7b7b609e-d0cd-4400-84d6-546823dc6bc5",
   "metadata": {},
   "outputs": [],
   "source": []
  },
  {
   "cell_type": "code",
   "execution_count": null,
   "id": "3c164424-3793-4083-ad1c-90a342cdbc27",
   "metadata": {},
   "outputs": [],
   "source": []
  },
  {
   "cell_type": "markdown",
   "id": "68f3b952-618e-44c9-b8dd-0fde1692096c",
   "metadata": {
    "tags": []
   },
   "source": [
    "## 3. Gráficos\n",
    "Pacotes utilizados:\n",
    "- Matplotlib: https://matplotlib.org/ \n",
    "- SeaBorn: https://seaborn.pydata.org/"
   ]
  },
  {
   "cell_type": "code",
   "execution_count": null,
   "id": "e9caf8c4-1578-48ff-aef8-db9bf9014126",
   "metadata": {
    "tags": []
   },
   "outputs": [],
   "source": [
    "# imports\n"
   ]
  },
  {
   "cell_type": "markdown",
   "id": "9d716d22-5dc7-4c49-b4f3-b213124c5de7",
   "metadata": {
    "tags": []
   },
   "source": [
    "### 3.1. Dataset com número ímpar de instâncias"
   ]
  },
  {
   "cell_type": "markdown",
   "id": "67202bfd-0df3-4bbf-9a07-5f1d9a66fe12",
   "metadata": {},
   "source": [
    "#### **Box Plot**"
   ]
  },
  {
   "cell_type": "code",
   "execution_count": null,
   "id": "a1ce81b6-386a-4ed0-b8a5-8c5db4b7d0cd",
   "metadata": {},
   "outputs": [],
   "source": []
  },
  {
   "cell_type": "code",
   "execution_count": null,
   "id": "db4a965c-cd04-45b1-889b-aaff7cb39f24",
   "metadata": {},
   "outputs": [],
   "source": []
  },
  {
   "cell_type": "markdown",
   "id": "98853fff-cb4d-4d9f-a566-eebd3755019c",
   "metadata": {},
   "source": [
    "#### **KDE Plot**"
   ]
  },
  {
   "cell_type": "code",
   "execution_count": null,
   "id": "ea877695-ebd9-46e0-ae84-649bf6a45bac",
   "metadata": {},
   "outputs": [],
   "source": []
  },
  {
   "cell_type": "markdown",
   "id": "386f484d-679e-4a1b-ac55-d0fa8ed45be8",
   "metadata": {},
   "source": [
    "#### **Violin Plot**"
   ]
  },
  {
   "cell_type": "code",
   "execution_count": null,
   "id": "abc5d036-6ced-435d-9ded-ebf7ecfb0898",
   "metadata": {},
   "outputs": [],
   "source": []
  },
  {
   "cell_type": "code",
   "execution_count": null,
   "id": "d1c5cd26-e263-4cf8-a8a7-bcb0d38289df",
   "metadata": {},
   "outputs": [],
   "source": []
  },
  {
   "cell_type": "markdown",
   "id": "26768d8b-47b4-45e6-9bd2-72297ac967c0",
   "metadata": {},
   "source": [
    "### 3.2. Exercício\n",
    "Construa o _box plot_, _kde plot_ e _violin plot_ para o dataset com número par de instâncias."
   ]
  },
  {
   "cell_type": "code",
   "execution_count": null,
   "id": "007f6ff8-6835-41e3-997b-8f9e71a4d117",
   "metadata": {},
   "outputs": [],
   "source": []
  },
  {
   "cell_type": "code",
   "execution_count": null,
   "id": "2871d317-31c9-4a85-8aa1-136cdd69c936",
   "metadata": {},
   "outputs": [],
   "source": []
  },
  {
   "cell_type": "code",
   "execution_count": null,
   "id": "9338cec2-c15a-4f79-adf1-4e4ba9230f46",
   "metadata": {},
   "outputs": [],
   "source": []
  }
 ],
 "metadata": {
  "kernelspec": {
   "display_name": "Python 3",
   "language": "python",
   "name": "python3"
  },
  "language_info": {
   "codemirror_mode": {
    "name": "ipython",
    "version": 3
   },
   "file_extension": ".py",
   "mimetype": "text/x-python",
   "name": "python",
   "nbconvert_exporter": "python",
   "pygments_lexer": "ipython3",
   "version": "3.8.5"
  }
 },
 "nbformat": 4,
 "nbformat_minor": 5
}

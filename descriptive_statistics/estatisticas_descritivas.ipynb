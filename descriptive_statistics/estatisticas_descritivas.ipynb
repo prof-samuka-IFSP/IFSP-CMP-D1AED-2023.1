{
 "cells": [
  {
   "cell_type": "markdown",
   "id": "22d095dc-9744-4b16-ac88-a936ca4a7dfb",
   "metadata": {},
   "source": [
    "**D1DAE: Análise Estatística para Ciência de Dados** <br/>\n",
    "IFSP Campinas\n",
    "\n",
    "Prof. Dr. Samuel Martins (Samuka) <br/><br/>\n",
    "\n",
    "<a rel=\"license\" href=\"http://creativecommons.org/licenses/by-nc-sa/4.0/\"><img alt=\"Creative Commons License\" style=\"border-width:0\" src=\"https://i.creativecommons.org/l/by-nc-sa/4.0/88x31.png\" /></a><br />This work is licensed under a <a rel=\"license\" href=\"http://creativecommons.org/licenses/by-nc-sa/4.0/\">Creative Commons Attribution-NonCommercial-ShareAlike 4.0 International License</a>."
   ]
  },
  {
   "cell_type": "markdown",
   "id": "ccdb4715-ccfc-4c2b-bbf3-f98f103c8e48",
   "metadata": {},
   "source": [
    "#### Custom CSS style"
   ]
  },
  {
   "cell_type": "code",
   "execution_count": 2,
   "id": "c1379e51-215d-4ca9-abe8-24772c9858c9",
   "metadata": {},
   "outputs": [
    {
     "data": {
      "text/html": [
       "<style>.dashed-box{border:1px dashed #000!important}.dashed-box tr{background-color:#fff!important}.alt-tab{background-color:#000;color:#ffc351;padding:4px;font-size:1em;font-weight:700;font-family:monospace}</style>\n"
      ],
      "text/plain": [
       "<IPython.core.display.HTML object>"
      ]
     },
     "metadata": {},
     "output_type": "display_data"
    }
   ],
   "source": [
    "%%html\n",
    "<style>.dashed-box{border:1px dashed #000!important}.dashed-box tr{background-color:#fff!important}.alt-tab{background-color:#000;color:#ffc351;padding:4px;font-size:1em;font-weight:700;font-family:monospace}</style>"
   ]
  },
  {
   "cell_type": "markdown",
   "id": "f0318475-36f5-4cf9-81fa-1583cba08371",
   "metadata": {},
   "source": [
    "### Pacotes usados neste Notebook"
   ]
  },
  {
   "cell_type": "code",
   "execution_count": 3,
   "id": "cd67e125-4cf4-42e7-a8bc-dab5827abd6b",
   "metadata": {},
   "outputs": [],
   "source": [
    "# pacotes usados neste notebook\n",
    "import pandas as pd\n",
    "import seaborn as sns\n",
    "import matplotlib.pyplot as plt"
   ]
  },
  {
   "cell_type": "markdown",
   "id": "c7e5abcd-5978-47b9-b7af-0b39a081ddce",
   "metadata": {},
   "source": [
    "<h1>Estatística Descritiva</h1><hr/>"
   ]
  },
  {
   "cell_type": "markdown",
   "id": "f3ace845-f5ea-4b54-9a3a-d7c55e3acea6",
   "metadata": {},
   "source": [
    "<h2>1. Problema e Dataset</h2>\n",
    "<hr/>"
   ]
  },
  {
   "cell_type": "markdown",
   "id": "54de3103-6793-47e1-8d33-79c64619a3fa",
   "metadata": {},
   "source": [
    "**Dataset**: Gas Prices in Brazil: https://www.kaggle.com/matheusfreitag/gas-prices-in-brazil <br/>\n",
    "\n",
    "Este dataset contém os **registros dos preços médios semanais dos combustíveis do Brasil entre os anos de 2004 e 2019**. <br/>\n",
    "Cada *observação (registro/linha)* consiste em um registro de preço aferido para um dado tipo de combustível em uma dada localidade do Brasil. <br/>\n",
    "Alguns dos principais *atributos* (colunas) do dataset são: 'ESTADO', 'PRODUTO', 'NÚMERO DE POSTOS PESQUISADOS', 'PREÇO MÉDIO REVENDA'."
   ]
  },
  {
   "cell_type": "markdown",
   "id": "2e69488a-a427-4f06-ab3c-63e8b89f3826",
   "metadata": {},
   "source": [
    "<table align=\"left\" class='dashed-box'>\n",
    "<tr>\n",
    "    <td>💡</td>\n",
    "    <td>O dataset utilizado neste notebook já foi _pré-processado_ anteriormente. Para mais informações, cheque os vídeos mostrados do curso <a href=\"https://www.youtube.com/playlist?list=PL3ZslI15yo2pfkf7EGNR14xTwe-wZ2bNX\">\"Pandas Essencial\" no YouTube</a>, onde realizamos tal preprocessamento.</td>\n",
    "</tr>\n",
    "</table><br/><br/>"
   ]
  },
  {
   "cell_type": "markdown",
   "id": "d913d3c1-2673-4909-b2e1-ef9fe5b90297",
   "metadata": {},
   "source": [
    "### 1.1 Importando o Dataset"
   ]
  },
  {
   "cell_type": "code",
   "execution_count": 16,
   "id": "0411f38e-cd25-4aa4-b186-ad6f20b9d032",
   "metadata": {},
   "outputs": [],
   "source": [
    "data = pd.read_csv('datasets/GasPricesinBrazil_2004-2019_preprocessado_final.csv')"
   ]
  },
  {
   "cell_type": "code",
   "execution_count": 17,
   "id": "f9bab3ae-5d2e-4bab-8b42-f61f1d4d3844",
   "metadata": {},
   "outputs": [
    {
     "data": {
      "text/html": [
       "<div>\n",
       "<style scoped>\n",
       "    .dataframe tbody tr th:only-of-type {\n",
       "        vertical-align: middle;\n",
       "    }\n",
       "\n",
       "    .dataframe tbody tr th {\n",
       "        vertical-align: top;\n",
       "    }\n",
       "\n",
       "    .dataframe thead th {\n",
       "        text-align: right;\n",
       "    }\n",
       "</style>\n",
       "<table border=\"1\" class=\"dataframe\">\n",
       "  <thead>\n",
       "    <tr style=\"text-align: right;\">\n",
       "      <th></th>\n",
       "      <th>DATA INICIAL</th>\n",
       "      <th>DATA FINAL</th>\n",
       "      <th>REGIÃO</th>\n",
       "      <th>ESTADO</th>\n",
       "      <th>PRODUTO</th>\n",
       "      <th>NÚMERO DE POSTOS PESQUISADOS</th>\n",
       "      <th>UNIDADE DE MEDIDA</th>\n",
       "      <th>PREÇO MÉDIO REVENDA</th>\n",
       "      <th>DESVIO PADRÃO REVENDA</th>\n",
       "      <th>PREÇO MÍNIMO REVENDA</th>\n",
       "      <th>PREÇO MÁXIMO REVENDA</th>\n",
       "      <th>MARGEM MÉDIA REVENDA</th>\n",
       "      <th>COEF DE VARIAÇÃO REVENDA</th>\n",
       "      <th>PREÇO MÉDIO DISTRIBUIÇÃO</th>\n",
       "      <th>DESVIO PADRÃO DISTRIBUIÇÃO</th>\n",
       "      <th>PREÇO MÍNIMO DISTRIBUIÇÃO</th>\n",
       "      <th>PREÇO MÁXIMO DISTRIBUIÇÃO</th>\n",
       "      <th>COEF DE VARIAÇÃO DISTRIBUIÇÃO</th>\n",
       "      <th>MÊS</th>\n",
       "      <th>ANO</th>\n",
       "    </tr>\n",
       "  </thead>\n",
       "  <tbody>\n",
       "    <tr>\n",
       "      <th>0</th>\n",
       "      <td>2004-05-09</td>\n",
       "      <td>2004-05-15</td>\n",
       "      <td>CENTRO OESTE</td>\n",
       "      <td>DISTRITO FEDERAL</td>\n",
       "      <td>ETANOL HIDRATADO</td>\n",
       "      <td>127</td>\n",
       "      <td>R$/l</td>\n",
       "      <td>1.288</td>\n",
       "      <td>0.016</td>\n",
       "      <td>1.190</td>\n",
       "      <td>1.350</td>\n",
       "      <td>0.463</td>\n",
       "      <td>0.012</td>\n",
       "      <td>0.825</td>\n",
       "      <td>0.110</td>\n",
       "      <td>0.4201</td>\n",
       "      <td>0.96660</td>\n",
       "      <td>0.133</td>\n",
       "      <td>5</td>\n",
       "      <td>2004</td>\n",
       "    </tr>\n",
       "    <tr>\n",
       "      <th>1</th>\n",
       "      <td>2004-05-09</td>\n",
       "      <td>2004-05-15</td>\n",
       "      <td>CENTRO OESTE</td>\n",
       "      <td>GOIAS</td>\n",
       "      <td>ETANOL HIDRATADO</td>\n",
       "      <td>387</td>\n",
       "      <td>R$/l</td>\n",
       "      <td>1.162</td>\n",
       "      <td>0.114</td>\n",
       "      <td>0.890</td>\n",
       "      <td>1.449</td>\n",
       "      <td>0.399</td>\n",
       "      <td>0.098</td>\n",
       "      <td>0.763</td>\n",
       "      <td>0.088</td>\n",
       "      <td>0.5013</td>\n",
       "      <td>1.05000</td>\n",
       "      <td>0.115</td>\n",
       "      <td>5</td>\n",
       "      <td>2004</td>\n",
       "    </tr>\n",
       "    <tr>\n",
       "      <th>2</th>\n",
       "      <td>2004-05-09</td>\n",
       "      <td>2004-05-15</td>\n",
       "      <td>CENTRO OESTE</td>\n",
       "      <td>MATO GROSSO</td>\n",
       "      <td>ETANOL HIDRATADO</td>\n",
       "      <td>192</td>\n",
       "      <td>R$/l</td>\n",
       "      <td>1.389</td>\n",
       "      <td>0.097</td>\n",
       "      <td>1.180</td>\n",
       "      <td>1.760</td>\n",
       "      <td>0.419</td>\n",
       "      <td>0.070</td>\n",
       "      <td>0.970</td>\n",
       "      <td>0.095</td>\n",
       "      <td>0.5614</td>\n",
       "      <td>1.16100</td>\n",
       "      <td>0.098</td>\n",
       "      <td>5</td>\n",
       "      <td>2004</td>\n",
       "    </tr>\n",
       "    <tr>\n",
       "      <th>3</th>\n",
       "      <td>2004-05-09</td>\n",
       "      <td>2004-05-15</td>\n",
       "      <td>CENTRO OESTE</td>\n",
       "      <td>MATO GROSSO DO SUL</td>\n",
       "      <td>ETANOL HIDRATADO</td>\n",
       "      <td>162</td>\n",
       "      <td>R$/l</td>\n",
       "      <td>1.262</td>\n",
       "      <td>0.070</td>\n",
       "      <td>1.090</td>\n",
       "      <td>1.509</td>\n",
       "      <td>0.432</td>\n",
       "      <td>0.055</td>\n",
       "      <td>0.830</td>\n",
       "      <td>0.119</td>\n",
       "      <td>0.5991</td>\n",
       "      <td>1.22242</td>\n",
       "      <td>0.143</td>\n",
       "      <td>5</td>\n",
       "      <td>2004</td>\n",
       "    </tr>\n",
       "    <tr>\n",
       "      <th>4</th>\n",
       "      <td>2004-05-09</td>\n",
       "      <td>2004-05-15</td>\n",
       "      <td>NORDESTE</td>\n",
       "      <td>ALAGOAS</td>\n",
       "      <td>ETANOL HIDRATADO</td>\n",
       "      <td>103</td>\n",
       "      <td>R$/l</td>\n",
       "      <td>1.181</td>\n",
       "      <td>0.078</td>\n",
       "      <td>1.050</td>\n",
       "      <td>1.400</td>\n",
       "      <td>0.240</td>\n",
       "      <td>0.066</td>\n",
       "      <td>0.941</td>\n",
       "      <td>0.077</td>\n",
       "      <td>0.7441</td>\n",
       "      <td>1.03170</td>\n",
       "      <td>0.082</td>\n",
       "      <td>5</td>\n",
       "      <td>2004</td>\n",
       "    </tr>\n",
       "    <tr>\n",
       "      <th>...</th>\n",
       "      <td>...</td>\n",
       "      <td>...</td>\n",
       "      <td>...</td>\n",
       "      <td>...</td>\n",
       "      <td>...</td>\n",
       "      <td>...</td>\n",
       "      <td>...</td>\n",
       "      <td>...</td>\n",
       "      <td>...</td>\n",
       "      <td>...</td>\n",
       "      <td>...</td>\n",
       "      <td>...</td>\n",
       "      <td>...</td>\n",
       "      <td>...</td>\n",
       "      <td>...</td>\n",
       "      <td>...</td>\n",
       "      <td>...</td>\n",
       "      <td>...</td>\n",
       "      <td>...</td>\n",
       "      <td>...</td>\n",
       "    </tr>\n",
       "    <tr>\n",
       "      <th>103387</th>\n",
       "      <td>2019-06-23</td>\n",
       "      <td>2019-06-29</td>\n",
       "      <td>NORDESTE</td>\n",
       "      <td>RIO GRANDE DO NORTE</td>\n",
       "      <td>GNV</td>\n",
       "      <td>7</td>\n",
       "      <td>R$/m3</td>\n",
       "      <td>3.574</td>\n",
       "      <td>0.065</td>\n",
       "      <td>3.499</td>\n",
       "      <td>3.690</td>\n",
       "      <td>0.818</td>\n",
       "      <td>0.018</td>\n",
       "      <td>2.756</td>\n",
       "      <td>0.000</td>\n",
       "      <td>2.7560</td>\n",
       "      <td>2.75600</td>\n",
       "      <td>0.000</td>\n",
       "      <td>6</td>\n",
       "      <td>2019</td>\n",
       "    </tr>\n",
       "    <tr>\n",
       "      <th>103388</th>\n",
       "      <td>2019-06-23</td>\n",
       "      <td>2019-06-29</td>\n",
       "      <td>SUL</td>\n",
       "      <td>RIO GRANDE DO SUL</td>\n",
       "      <td>GNV</td>\n",
       "      <td>23</td>\n",
       "      <td>R$/m3</td>\n",
       "      <td>3.401</td>\n",
       "      <td>0.129</td>\n",
       "      <td>3.230</td>\n",
       "      <td>3.789</td>\n",
       "      <td>0.950</td>\n",
       "      <td>0.038</td>\n",
       "      <td>2.451</td>\n",
       "      <td>0.402</td>\n",
       "      <td>1.9842</td>\n",
       "      <td>2.86610</td>\n",
       "      <td>0.164</td>\n",
       "      <td>6</td>\n",
       "      <td>2019</td>\n",
       "    </tr>\n",
       "    <tr>\n",
       "      <th>103389</th>\n",
       "      <td>2019-06-23</td>\n",
       "      <td>2019-06-29</td>\n",
       "      <td>SUL</td>\n",
       "      <td>SANTA CATARINA</td>\n",
       "      <td>GNV</td>\n",
       "      <td>24</td>\n",
       "      <td>R$/m3</td>\n",
       "      <td>2.912</td>\n",
       "      <td>0.190</td>\n",
       "      <td>2.699</td>\n",
       "      <td>3.499</td>\n",
       "      <td>0.914</td>\n",
       "      <td>0.065</td>\n",
       "      <td>1.998</td>\n",
       "      <td>0.000</td>\n",
       "      <td>1.9981</td>\n",
       "      <td>1.99810</td>\n",
       "      <td>0.000</td>\n",
       "      <td>6</td>\n",
       "      <td>2019</td>\n",
       "    </tr>\n",
       "    <tr>\n",
       "      <th>103390</th>\n",
       "      <td>2019-06-23</td>\n",
       "      <td>2019-06-29</td>\n",
       "      <td>SUDESTE</td>\n",
       "      <td>SAO PAULO</td>\n",
       "      <td>GNV</td>\n",
       "      <td>52</td>\n",
       "      <td>R$/m3</td>\n",
       "      <td>3.020</td>\n",
       "      <td>0.229</td>\n",
       "      <td>2.699</td>\n",
       "      <td>3.490</td>\n",
       "      <td>0.646</td>\n",
       "      <td>0.076</td>\n",
       "      <td>2.374</td>\n",
       "      <td>0.165</td>\n",
       "      <td>2.0179</td>\n",
       "      <td>2.50930</td>\n",
       "      <td>0.070</td>\n",
       "      <td>6</td>\n",
       "      <td>2019</td>\n",
       "    </tr>\n",
       "    <tr>\n",
       "      <th>103391</th>\n",
       "      <td>2019-06-23</td>\n",
       "      <td>2019-06-29</td>\n",
       "      <td>NORDESTE</td>\n",
       "      <td>SERGIPE</td>\n",
       "      <td>GNV</td>\n",
       "      <td>4</td>\n",
       "      <td>R$/m3</td>\n",
       "      <td>3.697</td>\n",
       "      <td>0.005</td>\n",
       "      <td>3.689</td>\n",
       "      <td>3.699</td>\n",
       "      <td>1.179</td>\n",
       "      <td>0.001</td>\n",
       "      <td>2.518</td>\n",
       "      <td>0.000</td>\n",
       "      <td>2.5175</td>\n",
       "      <td>2.51750</td>\n",
       "      <td>0.000</td>\n",
       "      <td>6</td>\n",
       "      <td>2019</td>\n",
       "    </tr>\n",
       "  </tbody>\n",
       "</table>\n",
       "<p>103392 rows × 20 columns</p>\n",
       "</div>"
      ],
      "text/plain": [
       "       DATA INICIAL  DATA FINAL        REGIÃO               ESTADO  \\\n",
       "0        2004-05-09  2004-05-15  CENTRO OESTE     DISTRITO FEDERAL   \n",
       "1        2004-05-09  2004-05-15  CENTRO OESTE                GOIAS   \n",
       "2        2004-05-09  2004-05-15  CENTRO OESTE          MATO GROSSO   \n",
       "3        2004-05-09  2004-05-15  CENTRO OESTE   MATO GROSSO DO SUL   \n",
       "4        2004-05-09  2004-05-15      NORDESTE              ALAGOAS   \n",
       "...             ...         ...           ...                  ...   \n",
       "103387   2019-06-23  2019-06-29      NORDESTE  RIO GRANDE DO NORTE   \n",
       "103388   2019-06-23  2019-06-29           SUL    RIO GRANDE DO SUL   \n",
       "103389   2019-06-23  2019-06-29           SUL       SANTA CATARINA   \n",
       "103390   2019-06-23  2019-06-29       SUDESTE            SAO PAULO   \n",
       "103391   2019-06-23  2019-06-29      NORDESTE              SERGIPE   \n",
       "\n",
       "                 PRODUTO  NÚMERO DE POSTOS PESQUISADOS UNIDADE DE MEDIDA  \\\n",
       "0       ETANOL HIDRATADO                           127              R$/l   \n",
       "1       ETANOL HIDRATADO                           387              R$/l   \n",
       "2       ETANOL HIDRATADO                           192              R$/l   \n",
       "3       ETANOL HIDRATADO                           162              R$/l   \n",
       "4       ETANOL HIDRATADO                           103              R$/l   \n",
       "...                  ...                           ...               ...   \n",
       "103387               GNV                             7             R$/m3   \n",
       "103388               GNV                            23             R$/m3   \n",
       "103389               GNV                            24             R$/m3   \n",
       "103390               GNV                            52             R$/m3   \n",
       "103391               GNV                             4             R$/m3   \n",
       "\n",
       "        PREÇO MÉDIO REVENDA  DESVIO PADRÃO REVENDA  PREÇO MÍNIMO REVENDA  \\\n",
       "0                     1.288                  0.016                 1.190   \n",
       "1                     1.162                  0.114                 0.890   \n",
       "2                     1.389                  0.097                 1.180   \n",
       "3                     1.262                  0.070                 1.090   \n",
       "4                     1.181                  0.078                 1.050   \n",
       "...                     ...                    ...                   ...   \n",
       "103387                3.574                  0.065                 3.499   \n",
       "103388                3.401                  0.129                 3.230   \n",
       "103389                2.912                  0.190                 2.699   \n",
       "103390                3.020                  0.229                 2.699   \n",
       "103391                3.697                  0.005                 3.689   \n",
       "\n",
       "        PREÇO MÁXIMO REVENDA  MARGEM MÉDIA REVENDA  COEF DE VARIAÇÃO REVENDA  \\\n",
       "0                      1.350                 0.463                     0.012   \n",
       "1                      1.449                 0.399                     0.098   \n",
       "2                      1.760                 0.419                     0.070   \n",
       "3                      1.509                 0.432                     0.055   \n",
       "4                      1.400                 0.240                     0.066   \n",
       "...                      ...                   ...                       ...   \n",
       "103387                 3.690                 0.818                     0.018   \n",
       "103388                 3.789                 0.950                     0.038   \n",
       "103389                 3.499                 0.914                     0.065   \n",
       "103390                 3.490                 0.646                     0.076   \n",
       "103391                 3.699                 1.179                     0.001   \n",
       "\n",
       "        PREÇO MÉDIO DISTRIBUIÇÃO  DESVIO PADRÃO DISTRIBUIÇÃO  \\\n",
       "0                          0.825                       0.110   \n",
       "1                          0.763                       0.088   \n",
       "2                          0.970                       0.095   \n",
       "3                          0.830                       0.119   \n",
       "4                          0.941                       0.077   \n",
       "...                          ...                         ...   \n",
       "103387                     2.756                       0.000   \n",
       "103388                     2.451                       0.402   \n",
       "103389                     1.998                       0.000   \n",
       "103390                     2.374                       0.165   \n",
       "103391                     2.518                       0.000   \n",
       "\n",
       "        PREÇO MÍNIMO DISTRIBUIÇÃO  PREÇO MÁXIMO DISTRIBUIÇÃO  \\\n",
       "0                          0.4201                    0.96660   \n",
       "1                          0.5013                    1.05000   \n",
       "2                          0.5614                    1.16100   \n",
       "3                          0.5991                    1.22242   \n",
       "4                          0.7441                    1.03170   \n",
       "...                           ...                        ...   \n",
       "103387                     2.7560                    2.75600   \n",
       "103388                     1.9842                    2.86610   \n",
       "103389                     1.9981                    1.99810   \n",
       "103390                     2.0179                    2.50930   \n",
       "103391                     2.5175                    2.51750   \n",
       "\n",
       "        COEF DE VARIAÇÃO DISTRIBUIÇÃO  MÊS   ANO  \n",
       "0                               0.133    5  2004  \n",
       "1                               0.115    5  2004  \n",
       "2                               0.098    5  2004  \n",
       "3                               0.143    5  2004  \n",
       "4                               0.082    5  2004  \n",
       "...                               ...  ...   ...  \n",
       "103387                          0.000    6  2019  \n",
       "103388                          0.164    6  2019  \n",
       "103389                          0.000    6  2019  \n",
       "103390                          0.070    6  2019  \n",
       "103391                          0.000    6  2019  \n",
       "\n",
       "[103392 rows x 20 columns]"
      ]
     },
     "execution_count": 17,
     "metadata": {},
     "output_type": "execute_result"
    }
   ],
   "source": [
    "data"
   ]
  },
  {
   "cell_type": "markdown",
   "id": "894bc011-fd51-48b0-9d51-ac626ec7a98e",
   "metadata": {},
   "source": [
    "### 1.2. Mostrando a cabeça do Dataframe"
   ]
  },
  {
   "cell_type": "code",
   "execution_count": null,
   "id": "ee7f727b-442a-4fee-ac13-aa926451e1f4",
   "metadata": {},
   "outputs": [],
   "source": [
    "# 5 primeiras linhas/instâncias\n"
   ]
  },
  {
   "cell_type": "code",
   "execution_count": null,
   "id": "17753ede-a038-4fc7-a56e-fde37919c418",
   "metadata": {},
   "outputs": [],
   "source": [
    "# 10 primeiras linhas/instâncias\n"
   ]
  },
  {
   "cell_type": "markdown",
   "id": "47c976e2-9681-4e64-8fc5-afd74c6eeba4",
   "metadata": {},
   "source": [
    "### 1.3. Informações básicas do Dataset"
   ]
  },
  {
   "cell_type": "code",
   "execution_count": null,
   "id": "816c1595-cb46-4d58-b2ee-a57365798fc4",
   "metadata": {},
   "outputs": [],
   "source": []
  },
  {
   "cell_type": "markdown",
   "id": "186a53a7-0730-41a9-88b4-2d923076fc56",
   "metadata": {},
   "source": [
    "#### **Estatísticas Descritivas Gerais**\n",
    "PS: considerando _todo o dataset_."
   ]
  },
  {
   "cell_type": "code",
   "execution_count": null,
   "id": "228c93d7-a162-4471-8dec-91fcfd8042d1",
   "metadata": {},
   "outputs": [],
   "source": []
  },
  {
   "cell_type": "markdown",
   "id": "b57ac804-ec34-4a25-b504-9f2de696767a",
   "metadata": {},
   "source": [
    "<h2>2. Extraindo Estatísticas Descritivas Mais Específicas</h2>\n",
    "<hr/>"
   ]
  },
  {
   "cell_type": "markdown",
   "id": "18eb5d99-dc49-44df-a831-d0ec00857dcd",
   "metadata": {},
   "source": [
    "### 2.1 Como os preços da Gasolina Comum em São Paulo variaram em 2018?"
   ]
  },
  {
   "cell_type": "code",
   "execution_count": null,
   "id": "bc194d8e-6c0e-458f-ab56-4f59489fc300",
   "metadata": {},
   "outputs": [],
   "source": []
  },
  {
   "cell_type": "code",
   "execution_count": null,
   "id": "d41a5753-afed-4b8a-a4f4-b10b47c783bb",
   "metadata": {},
   "outputs": [],
   "source": []
  },
  {
   "cell_type": "markdown",
   "id": "bc9d4d4d-7f6d-4e2f-94de-e3ac137f982c",
   "metadata": {},
   "source": [
    "#### **Estatísticas Descritivas**"
   ]
  },
  {
   "cell_type": "code",
   "execution_count": null,
   "id": "18f29fee-4e13-44c9-86b2-5f127a44a85e",
   "metadata": {},
   "outputs": [],
   "source": []
  },
  {
   "cell_type": "code",
   "execution_count": null,
   "id": "5bd4feb8-8649-459f-a8f3-9a1d452ea802",
   "metadata": {},
   "outputs": [],
   "source": []
  },
  {
   "cell_type": "code",
   "execution_count": null,
   "id": "748a008c-41f3-4478-a1f0-d313c3c5f775",
   "metadata": {},
   "outputs": [],
   "source": []
  },
  {
   "cell_type": "markdown",
   "id": "d8aaef9a-68c0-4cf3-947b-2dacf4a718aa",
   "metadata": {},
   "source": [
    "#### **Tendência Central dos Preços**"
   ]
  },
  {
   "cell_type": "markdown",
   "id": "abbc0a1a-65ca-40e7-bec0-679d030dd2a4",
   "metadata": {},
   "source": [
    "##### **Média**"
   ]
  },
  {
   "cell_type": "code",
   "execution_count": null,
   "id": "95b96b5a-36f0-47b5-b08c-08cc3cd89c22",
   "metadata": {},
   "outputs": [],
   "source": [
    "print(f'O preço médio da Gasolina no Estado de São em 2018 foi de R$ {df[\"PREÇO MÉDIO REVENDA\"].mean():.2f} ± {df[\"PREÇO MÉDIO REVENDA\"].std():.2f}')"
   ]
  },
  {
   "cell_type": "code",
   "execution_count": null,
   "id": "3a6a0198-b125-4747-af7e-3a23f284fa47",
   "metadata": {},
   "outputs": [],
   "source": []
  },
  {
   "cell_type": "markdown",
   "id": "d6bd8ee5-a871-463b-9de3-89b10ae78ab9",
   "metadata": {},
   "source": [
    "##### **Mediana**"
   ]
  },
  {
   "cell_type": "code",
   "execution_count": null,
   "id": "7024a9ce-b3b1-4438-8893-c766eec88534",
   "metadata": {},
   "outputs": [],
   "source": [
    "print(f'A mediana do preço da Gasolina Comum no estado de SP em 2018 é R$ {df[\"PREÇO MÉDIO REVENDA\"].median():.2f}')"
   ]
  },
  {
   "cell_type": "markdown",
   "id": "eab353e9-2298-498a-b0bb-8d8a07a40613",
   "metadata": {},
   "source": [
    "### **Variabilidade**"
   ]
  },
  {
   "cell_type": "markdown",
   "id": "263684ab-3852-4228-877e-810a87d93107",
   "metadata": {},
   "source": [
    "#### Histograma com número de bins padrão:"
   ]
  },
  {
   "cell_type": "code",
   "execution_count": null,
   "id": "77cd5e87-2452-40a7-99b1-a3ae19b32f8a",
   "metadata": {},
   "outputs": [],
   "source": []
  },
  {
   "cell_type": "markdown",
   "id": "fc741576-dabb-4ef7-b81b-8c08dcf5810e",
   "metadata": {},
   "source": [
    "#### Alterando o **número de bins** do Histograma."
   ]
  },
  {
   "cell_type": "code",
   "execution_count": null,
   "id": "9a7fd35d-9dc8-44e8-976f-8883b93f76a2",
   "metadata": {},
   "outputs": [],
   "source": []
  },
  {
   "cell_type": "markdown",
   "id": "872de305-81d0-4770-b0cc-bbda4289b250",
   "metadata": {},
   "source": [
    "#### Checando a variabilidade usando **BoxPlots**"
   ]
  },
  {
   "cell_type": "code",
   "execution_count": null,
   "id": "c4db6074-b8f2-4295-8b2f-3a5967d7a83a",
   "metadata": {},
   "outputs": [],
   "source": []
  },
  {
   "cell_type": "markdown",
   "id": "48a6dd26-38c7-4726-a014-dd1be6e86c88",
   "metadata": {},
   "source": [
    "#### Checando a variabilidade usando **Violin Plot**"
   ]
  },
  {
   "cell_type": "code",
   "execution_count": null,
   "id": "e1e2ca04-ecd1-476a-b3ec-5099c96ddac8",
   "metadata": {},
   "outputs": [],
   "source": []
  },
  {
   "cell_type": "markdown",
   "id": "a05ac0f0-af95-4542-8a56-a3ca524beead",
   "metadata": {},
   "source": [
    "### 2.2 Há uma correlação linear entre os Preços de Distribuição e Preços de Revenda dos combustíveis?"
   ]
  },
  {
   "cell_type": "markdown",
   "id": "0e037a83-3ea0-4d19-85bb-4b846c8335cd",
   "metadata": {},
   "source": [
    "Consideraremos todo o dataset para tal consulta."
   ]
  },
  {
   "cell_type": "code",
   "execution_count": null,
   "id": "d9894530-3e83-48e9-971b-cc102e7c5b4e",
   "metadata": {},
   "outputs": [],
   "source": []
  },
  {
   "cell_type": "code",
   "execution_count": null,
   "id": "7d0d2146-7435-4344-a42f-b96566dcda41",
   "metadata": {},
   "outputs": [],
   "source": [
    "# mostra a correlação de todo mundo com todo mundo\n"
   ]
  },
  {
   "cell_type": "code",
   "execution_count": null,
   "id": "7e5ec33b-3225-42ca-b170-a39a3ec18444",
   "metadata": {},
   "outputs": [],
   "source": [
    "# filtrando apenas as colunas/variáveis de interesse\n"
   ]
  },
  {
   "cell_type": "code",
   "execution_count": null,
   "id": "578790b9-eaab-49f2-8899-a9f0b4ede35d",
   "metadata": {},
   "outputs": [],
   "source": []
  },
  {
   "cell_type": "code",
   "execution_count": null,
   "id": "e72296e7-aaf6-42bd-93e4-d6994c859de7",
   "metadata": {},
   "outputs": [],
   "source": []
  },
  {
   "cell_type": "markdown",
   "id": "70c3d0c8-e229-494a-862d-1ecc0010b476",
   "metadata": {},
   "source": [
    "<h2>3. Exercícios</h2>\n",
    "<hr/>"
   ]
  },
  {
   "cell_type": "markdown",
   "id": "eb16c89a-021d-4d6f-8020-eee3f8de8853",
   "metadata": {},
   "source": [
    "### 3.1 Como os preços da Gasolina Comum e do Etanol em São Paulo variaram em 2018?"
   ]
  },
  {
   "cell_type": "code",
   "execution_count": null,
   "id": "afddb3e9-a8c8-4dcc-9822-73282178c456",
   "metadata": {},
   "outputs": [],
   "source": []
  },
  {
   "cell_type": "markdown",
   "id": "d481a0f0-759c-4687-8bda-ce8c01146030",
   "metadata": {},
   "source": [
    "### 3.2 Como os preços da Gasolina Comum e Etanol variaram no estado de SP ao longo dos anos?\n",
    "Dica: use o _lineplot_ (gráfico de linha)."
   ]
  },
  {
   "cell_type": "code",
   "execution_count": null,
   "id": "192214f6-4fdb-452d-ba57-11ac9bc8e4b6",
   "metadata": {},
   "outputs": [],
   "source": []
  },
  {
   "cell_type": "markdown",
   "id": "e8c1172d-abce-46fc-ae5e-eb36fe3d718f",
   "metadata": {},
   "source": [
    "### 3.3 Qual a correlação entre o Preço de Distribuição e de Revenda da Gasolina Comum?"
   ]
  },
  {
   "cell_type": "code",
   "execution_count": null,
   "id": "6b7b547e-b026-4526-9a40-3017d04316b0",
   "metadata": {},
   "outputs": [],
   "source": []
  }
 ],
 "metadata": {
  "kernelspec": {
   "display_name": "Python 3",
   "language": "python",
   "name": "python3"
  },
  "language_info": {
   "codemirror_mode": {
    "name": "ipython",
    "version": 3
   },
   "file_extension": ".py",
   "mimetype": "text/x-python",
   "name": "python",
   "nbconvert_exporter": "python",
   "pygments_lexer": "ipython3",
   "version": "3.8.5"
  }
 },
 "nbformat": 4,
 "nbformat_minor": 5
}

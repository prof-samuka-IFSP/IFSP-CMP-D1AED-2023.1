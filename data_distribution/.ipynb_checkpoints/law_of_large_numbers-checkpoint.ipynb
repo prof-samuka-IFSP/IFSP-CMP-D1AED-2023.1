{
 "cells": [
  {
   "cell_type": "markdown",
   "id": "99892e09-d290-430e-8293-04155244f590",
   "metadata": {},
   "source": [
    "**D1DAE: Análise Estatística para Ciência de Dados** <br/>\n",
    "IFSP Campinas\n",
    "\n",
    "Prof. Dr. Samuel Martins (Samuka) <br/><br/>\n",
    "\n",
    "<a rel=\"license\" href=\"http://creativecommons.org/licenses/by-nc-sa/4.0/\"><img alt=\"Creative Commons License\" style=\"border-width:0\" src=\"https://i.creativecommons.org/l/by-nc-sa/4.0/88x31.png\" /></a><br />This work is licensed under a <a rel=\"license\" href=\"http://creativecommons.org/licenses/by-nc-sa/4.0/\">Creative Commons Attribution-NonCommercial-ShareAlike 4.0 International License</a>."
   ]
  },
  {
   "cell_type": "code",
   "execution_count": 1,
   "id": "b3abdc0a-46f7-437f-b183-dbe377a04895",
   "metadata": {},
   "outputs": [
    {
     "data": {
      "text/html": [
       "<style>.dashed-box{border:1px dashed #000!important}.dashed-box tr{background-color:#fff!important}.alt-tab{background-color:#000;color:#ffc351;padding:4px;font-size:1em;font-weight:700;font-family:monospace}</style>\n"
      ],
      "text/plain": [
       "<IPython.core.display.HTML object>"
      ]
     },
     "metadata": {},
     "output_type": "display_data"
    }
   ],
   "source": [
    "%%html\n",
    "<style>.dashed-box{border:1px dashed #000!important}.dashed-box tr{background-color:#fff!important}.alt-tab{background-color:#000;color:#ffc351;padding:4px;font-size:1em;font-weight:700;font-family:monospace}</style>"
   ]
  },
  {
   "cell_type": "markdown",
   "id": "f13668d9-28c5-4725-9af6-cb21a7a0febe",
   "metadata": {},
   "source": [
    "<h1>Law of Large Numbers</h1><hr/>\n",
    "\n",
    "Simulate multiple _roulette games_ considering that one is betting at **odd numbers** to win. <br/>\n",
    "Consider that this roulette has 18 odd, 18 even, a zero number = **37 numbers**."
   ]
  },
  {
   "cell_type": "code",
   "execution_count": 72,
   "id": "03479185-173a-4974-a8f6-ec8f2393e75c",
   "metadata": {},
   "outputs": [
    {
     "data": {
      "text/plain": [
       "0.4864864864864865"
      ]
     },
     "execution_count": 72,
     "metadata": {},
     "output_type": "execute_result"
    }
   ],
   "source": [
    "# expected value to win betting on odds\n",
    "exp_win = 18 / 37\n",
    "exp_win"
   ]
  },
  {
   "cell_type": "code",
   "execution_count": 79,
   "id": "e53f79b0-50c1-46b0-9e7e-023a3a61f815",
   "metadata": {},
   "outputs": [],
   "source": [
    "import random\n",
    "\n",
    "random.seed(23)\n",
    "\n",
    "# Run n roulette games.\n",
    "# Win a game if an odd number was selected within [0, 36].\n",
    "def roulette_odd(n: int) -> tuple:\n",
    "    spin_numbers = []\n",
    "    outcomes = []  # True=win, False=lose\n",
    " \n",
    "    for _ in range(n):\n",
    "        spin = random.randint(0, 36)  # 36 included\n",
    "        spin_numbers.append(spin)\n",
    "        outcomes.append(spin % 2 != 0)\n",
    " \n",
    "    return spin_numbers, outcomes"
   ]
  },
  {
   "cell_type": "code",
   "execution_count": 80,
   "id": "10c5dc85-5731-4b39-b5fe-e71dc8c6a562",
   "metadata": {},
   "outputs": [],
   "source": [
    "# run the roulette game 100x\n",
    "n_games = 100\n",
    "spin_numbers, outcomes = roulette_odd(n_games)\n",
    "\n",
    "# computed the prob. of win for each number of games (normalized cummulative histogram)\n",
    "probs = []\n",
    "\n",
    "game = 0\n",
    "cumm_sum = 0\n",
    "\n",
    "for out in outcomes:\n",
    "    game += 1\n",
    "    cumm_sum += out\n",
    "    \n",
    "    prob = cumm_sum / game\n",
    "              \n",
    "    probs.append(prob)"
   ]
  },
  {
   "cell_type": "code",
   "execution_count": 81,
   "id": "577d90fc-4e37-4fcb-8e48-a1543288e263",
   "metadata": {},
   "outputs": [
    {
     "data": {
      "text/plain": [
       "Text(0, 0.5, 'Prob. Win')"
      ]
     },
     "execution_count": 81,
     "metadata": {},
     "output_type": "execute_result"
    },
    {
     "data": {
      "image/png": "[encoded data removed]",
      "text/plain": [
       "<Figure size 720x432 with 1 Axes>"
      ]
     },
     "metadata": {
      "needs_background": "light"
     },
     "output_type": "display_data"
    }
   ],
   "source": [
    "import seaborn as sns\n",
    "import matplotlib.pyplot as plt\n",
    "\n",
    "games = list(range(1, n_games + 1))\n",
    "\n",
    "plt.figure(figsize=(10, 6))\n",
    "\n",
    "sns.scatterplot(x=games, y=probs)\n",
    "plt.hlines(y=exp_win, xmin=1, xmax=n_games, color='gray', linestyles='dashed')\n",
    "\n",
    "plt.xlim(0, n_games)\n",
    "plt.ylim(0, 1)\n",
    "\n",
    "plt.legend(['prob. game', 'expected prob.'])\n",
    "plt.xlabel('# games')\n",
    "plt.ylabel('Prob. Win')"
   ]
  }
 ],
 "metadata": {
  "kernelspec": {
   "display_name": "Python 3",
   "language": "python",
   "name": "python3"
  },
  "language_info": {
   "codemirror_mode": {
    "name": "ipython",
    "version": 3
   },
   "file_extension": ".py",
   "mimetype": "text/x-python",
   "name": "python",
   "nbconvert_exporter": "python",
   "pygments_lexer": "ipython3",
   "version": "3.8.5"
  }
 },
 "nbformat": 4,
 "nbformat_minor": 5
}
